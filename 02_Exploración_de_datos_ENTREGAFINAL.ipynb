{
  "nbformat": 4,
  "nbformat_minor": 0,
  "metadata": {
    "colab": {
      "provenance": [],
      "include_colab_link": true
    },
    "kernelspec": {
      "name": "python3",
      "display_name": "Python 3"
    },
    "language_info": {
      "name": "python"
    }
  },
  "cells": [
    {
      "cell_type": "markdown",
      "metadata": {
        "id": "view-in-github",
        "colab_type": "text"
      },
      "source": [
        "<a href=\"https://colab.research.google.com/github/orimejia/Proyecto-AI/blob/main/02_Exploraci%C3%B3n_de_datos_ENTREGAFINAL.ipynb\" target=\"_parent\"><img src=\"https://colab.research.google.com/assets/colab-badge.svg\" alt=\"Open In Colab\"/></a>"
      ]
    },
    {
      "cell_type": "code",
      "source": [
        "import numpy as np\n",
        "import pandas as pd\n",
        "import matplotlib.pyplot as plt\n",
        "import seaborn as sns\n",
        "from sklearn.feature_selection import SelectFromModel, mutual_info_classif, f_classif, SelectKBest, f_regression\n",
        "from sklearn.preprocessing import StandardScaler\n",
        "from sklearn.model_selection import train_test_split\n",
        "from sklearn.datasets import make_regression\n",
        "from imblearn.over_sampling import SMOTE\n",
        "from sklearn.metrics import classification_report, confusion_matrix, accuracy_score\n",
        "from sklearn.svm import SVC\n",
        "from sklearn.linear_model import LogisticRegression"
      ],
      "metadata": {
        "id": "dCKELOmVHP9K"
      },
      "execution_count": 16,
      "outputs": []
    },
    {
      "cell_type": "code",
      "source": [
        "url = 'https://raw.githubusercontent.com/HernanAC/TaiwaneseBankruptcyPrediction/main/simulated_data.csv'\n",
        "data = pd.read_csv(url)"
      ],
      "metadata": {
        "id": "MUtXbEWBDZg_"
      },
      "execution_count": 17,
      "outputs": []
    },
    {
      "cell_type": "markdown",
      "source": [
        "# **02 - Data Exploration**"
      ],
      "metadata": {
        "id": "vR3oavMuDm7F"
      }
    },
    {
      "cell_type": "markdown",
      "source": [
        "## Dataset modificado"
      ],
      "metadata": {
        "id": "73Ni9__f6dRe"
      }
    },
    {
      "cell_type": "code",
      "source": [
        "data.head()"
      ],
      "metadata": {
        "id": "17PVMsL5DZlU",
        "colab": {
          "base_uri": "https://localhost:8080/",
          "height": 386
        },
        "outputId": "91527d56-e817-4486-a5e3-f7587c1f2b3f"
      },
      "execution_count": 18,
      "outputs": [
        {
          "output_type": "execute_result",
          "data": {
            "text/plain": [
              "   Bankrupt?  ROA(C) before interest and depreciation before interest  \\\n",
              "0          1                                             MEDIUM         \n",
              "1          1                                             MEDIUM         \n",
              "2          1                                             MEDIUM         \n",
              "3          1                                             MEDIUM         \n",
              "4          1                                             MEDIUM         \n",
              "\n",
              "   ROA(A) before interest and % after tax  \\\n",
              "0                                  MEDIUM   \n",
              "1                                  MEDIUM   \n",
              "2                                  MEDIUM   \n",
              "3                                  MEDIUM   \n",
              "4                                  MEDIUM   \n",
              "\n",
              "   ROA(B) before interest and depreciation after tax   Operating Gross Margin  \\\n",
              "0                                             MEDIUM                      NaN   \n",
              "1                                             MEDIUM                 0.610235   \n",
              "2                                             MEDIUM                 0.601450   \n",
              "3                                             MEDIUM                 0.583541   \n",
              "4                                             MEDIUM                 0.598783   \n",
              "\n",
              "    Realized Sales Gross Margin   Operating Profit Rate  \\\n",
              "0                      0.601457                0.998969   \n",
              "1                      0.610235                0.998946   \n",
              "2                      0.601364                0.998857   \n",
              "3                      0.583541                0.998700   \n",
              "4                      0.598783                0.998973   \n",
              "\n",
              "    Pre-tax net Interest Rate   After-tax net Interest Rate  \\\n",
              "0                    0.796887                      0.808809   \n",
              "1                    0.797380                      0.809301   \n",
              "2                    0.796403                      0.808388   \n",
              "3                    0.796967                      0.808966   \n",
              "4                    0.797366                      0.809304   \n",
              "\n",
              "   Non-industry income and expenditure/revenue  ...  \\\n",
              "0                                          LOW  ...   \n",
              "1                                          LOW  ...   \n",
              "2                                          LOW  ...   \n",
              "3                                          LOW  ...   \n",
              "4                                          LOW  ...   \n",
              "\n",
              "    Net Income to Total Assets   Total assets to GNP price  \\\n",
              "0                         HIGH                    0.009219   \n",
              "1                         HIGH                    0.008323   \n",
              "2                         HIGH                    0.040003   \n",
              "3                         HIGH                    0.003252   \n",
              "4                         HIGH                    0.003878   \n",
              "\n",
              "    No-credit Interval   Gross Profit to Sales  \\\n",
              "0             0.622879                0.601453   \n",
              "1             0.623652                0.610237   \n",
              "2             0.623841                0.601449   \n",
              "3             0.622929                0.583538   \n",
              "4             0.623521                0.598782   \n",
              "\n",
              "    Net Income to Stockholder's Equity   Liability to Equity  \\\n",
              "0                             0.827890              0.290202   \n",
              "1                             0.839969              0.283846   \n",
              "2                             0.836774              0.290189   \n",
              "3                             0.834697              0.281721   \n",
              "4                             0.839973              0.278514   \n",
              "\n",
              "    Degree of Financial Leverage (DFL)  \\\n",
              "0                             0.026601   \n",
              "1                             0.264577   \n",
              "2                             0.026555   \n",
              "3                             0.026697   \n",
              "4                             0.024752   \n",
              "\n",
              "    Interest Coverage Ratio (Interest expense to EBIT)   Net Income Flag  \\\n",
              "0                                           0.564050                   1   \n",
              "1                                           0.570175                   1   \n",
              "2                                           0.563706                   1   \n",
              "3                                           0.564663                   1   \n",
              "4                                           0.575617                   1   \n",
              "\n",
              "    Equity to Liability  \n",
              "0              0.016469  \n",
              "1              0.020794  \n",
              "2              0.016474  \n",
              "3              0.023982  \n",
              "4              0.035490  \n",
              "\n",
              "[5 rows x 96 columns]"
            ],
            "text/html": [
              "\n",
              "  <div id=\"df-003acd16-3e6d-4da3-9b84-7ac10ec2e112\">\n",
              "    <div class=\"colab-df-container\">\n",
              "      <div>\n",
              "<style scoped>\n",
              "    .dataframe tbody tr th:only-of-type {\n",
              "        vertical-align: middle;\n",
              "    }\n",
              "\n",
              "    .dataframe tbody tr th {\n",
              "        vertical-align: top;\n",
              "    }\n",
              "\n",
              "    .dataframe thead th {\n",
              "        text-align: right;\n",
              "    }\n",
              "</style>\n",
              "<table border=\"1\" class=\"dataframe\">\n",
              "  <thead>\n",
              "    <tr style=\"text-align: right;\">\n",
              "      <th></th>\n",
              "      <th>Bankrupt?</th>\n",
              "      <th>ROA(C) before interest and depreciation before interest</th>\n",
              "      <th>ROA(A) before interest and % after tax</th>\n",
              "      <th>ROA(B) before interest and depreciation after tax</th>\n",
              "      <th>Operating Gross Margin</th>\n",
              "      <th>Realized Sales Gross Margin</th>\n",
              "      <th>Operating Profit Rate</th>\n",
              "      <th>Pre-tax net Interest Rate</th>\n",
              "      <th>After-tax net Interest Rate</th>\n",
              "      <th>Non-industry income and expenditure/revenue</th>\n",
              "      <th>...</th>\n",
              "      <th>Net Income to Total Assets</th>\n",
              "      <th>Total assets to GNP price</th>\n",
              "      <th>No-credit Interval</th>\n",
              "      <th>Gross Profit to Sales</th>\n",
              "      <th>Net Income to Stockholder's Equity</th>\n",
              "      <th>Liability to Equity</th>\n",
              "      <th>Degree of Financial Leverage (DFL)</th>\n",
              "      <th>Interest Coverage Ratio (Interest expense to EBIT)</th>\n",
              "      <th>Net Income Flag</th>\n",
              "      <th>Equity to Liability</th>\n",
              "    </tr>\n",
              "  </thead>\n",
              "  <tbody>\n",
              "    <tr>\n",
              "      <th>0</th>\n",
              "      <td>1</td>\n",
              "      <td>MEDIUM</td>\n",
              "      <td>MEDIUM</td>\n",
              "      <td>MEDIUM</td>\n",
              "      <td>NaN</td>\n",
              "      <td>0.601457</td>\n",
              "      <td>0.998969</td>\n",
              "      <td>0.796887</td>\n",
              "      <td>0.808809</td>\n",
              "      <td>LOW</td>\n",
              "      <td>...</td>\n",
              "      <td>HIGH</td>\n",
              "      <td>0.009219</td>\n",
              "      <td>0.622879</td>\n",
              "      <td>0.601453</td>\n",
              "      <td>0.827890</td>\n",
              "      <td>0.290202</td>\n",
              "      <td>0.026601</td>\n",
              "      <td>0.564050</td>\n",
              "      <td>1</td>\n",
              "      <td>0.016469</td>\n",
              "    </tr>\n",
              "    <tr>\n",
              "      <th>1</th>\n",
              "      <td>1</td>\n",
              "      <td>MEDIUM</td>\n",
              "      <td>MEDIUM</td>\n",
              "      <td>MEDIUM</td>\n",
              "      <td>0.610235</td>\n",
              "      <td>0.610235</td>\n",
              "      <td>0.998946</td>\n",
              "      <td>0.797380</td>\n",
              "      <td>0.809301</td>\n",
              "      <td>LOW</td>\n",
              "      <td>...</td>\n",
              "      <td>HIGH</td>\n",
              "      <td>0.008323</td>\n",
              "      <td>0.623652</td>\n",
              "      <td>0.610237</td>\n",
              "      <td>0.839969</td>\n",
              "      <td>0.283846</td>\n",
              "      <td>0.264577</td>\n",
              "      <td>0.570175</td>\n",
              "      <td>1</td>\n",
              "      <td>0.020794</td>\n",
              "    </tr>\n",
              "    <tr>\n",
              "      <th>2</th>\n",
              "      <td>1</td>\n",
              "      <td>MEDIUM</td>\n",
              "      <td>MEDIUM</td>\n",
              "      <td>MEDIUM</td>\n",
              "      <td>0.601450</td>\n",
              "      <td>0.601364</td>\n",
              "      <td>0.998857</td>\n",
              "      <td>0.796403</td>\n",
              "      <td>0.808388</td>\n",
              "      <td>LOW</td>\n",
              "      <td>...</td>\n",
              "      <td>HIGH</td>\n",
              "      <td>0.040003</td>\n",
              "      <td>0.623841</td>\n",
              "      <td>0.601449</td>\n",
              "      <td>0.836774</td>\n",
              "      <td>0.290189</td>\n",
              "      <td>0.026555</td>\n",
              "      <td>0.563706</td>\n",
              "      <td>1</td>\n",
              "      <td>0.016474</td>\n",
              "    </tr>\n",
              "    <tr>\n",
              "      <th>3</th>\n",
              "      <td>1</td>\n",
              "      <td>MEDIUM</td>\n",
              "      <td>MEDIUM</td>\n",
              "      <td>MEDIUM</td>\n",
              "      <td>0.583541</td>\n",
              "      <td>0.583541</td>\n",
              "      <td>0.998700</td>\n",
              "      <td>0.796967</td>\n",
              "      <td>0.808966</td>\n",
              "      <td>LOW</td>\n",
              "      <td>...</td>\n",
              "      <td>HIGH</td>\n",
              "      <td>0.003252</td>\n",
              "      <td>0.622929</td>\n",
              "      <td>0.583538</td>\n",
              "      <td>0.834697</td>\n",
              "      <td>0.281721</td>\n",
              "      <td>0.026697</td>\n",
              "      <td>0.564663</td>\n",
              "      <td>1</td>\n",
              "      <td>0.023982</td>\n",
              "    </tr>\n",
              "    <tr>\n",
              "      <th>4</th>\n",
              "      <td>1</td>\n",
              "      <td>MEDIUM</td>\n",
              "      <td>MEDIUM</td>\n",
              "      <td>MEDIUM</td>\n",
              "      <td>0.598783</td>\n",
              "      <td>0.598783</td>\n",
              "      <td>0.998973</td>\n",
              "      <td>0.797366</td>\n",
              "      <td>0.809304</td>\n",
              "      <td>LOW</td>\n",
              "      <td>...</td>\n",
              "      <td>HIGH</td>\n",
              "      <td>0.003878</td>\n",
              "      <td>0.623521</td>\n",
              "      <td>0.598782</td>\n",
              "      <td>0.839973</td>\n",
              "      <td>0.278514</td>\n",
              "      <td>0.024752</td>\n",
              "      <td>0.575617</td>\n",
              "      <td>1</td>\n",
              "      <td>0.035490</td>\n",
              "    </tr>\n",
              "  </tbody>\n",
              "</table>\n",
              "<p>5 rows × 96 columns</p>\n",
              "</div>\n",
              "      <button class=\"colab-df-convert\" onclick=\"convertToInteractive('df-003acd16-3e6d-4da3-9b84-7ac10ec2e112')\"\n",
              "              title=\"Convert this dataframe to an interactive table.\"\n",
              "              style=\"display:none;\">\n",
              "        \n",
              "  <svg xmlns=\"http://www.w3.org/2000/svg\" height=\"24px\"viewBox=\"0 0 24 24\"\n",
              "       width=\"24px\">\n",
              "    <path d=\"M0 0h24v24H0V0z\" fill=\"none\"/>\n",
              "    <path d=\"M18.56 5.44l.94 2.06.94-2.06 2.06-.94-2.06-.94-.94-2.06-.94 2.06-2.06.94zm-11 1L8.5 8.5l.94-2.06 2.06-.94-2.06-.94L8.5 2.5l-.94 2.06-2.06.94zm10 10l.94 2.06.94-2.06 2.06-.94-2.06-.94-.94-2.06-.94 2.06-2.06.94z\"/><path d=\"M17.41 7.96l-1.37-1.37c-.4-.4-.92-.59-1.43-.59-.52 0-1.04.2-1.43.59L10.3 9.45l-7.72 7.72c-.78.78-.78 2.05 0 2.83L4 21.41c.39.39.9.59 1.41.59.51 0 1.02-.2 1.41-.59l7.78-7.78 2.81-2.81c.8-.78.8-2.07 0-2.86zM5.41 20L4 18.59l7.72-7.72 1.47 1.35L5.41 20z\"/>\n",
              "  </svg>\n",
              "      </button>\n",
              "      \n",
              "  <style>\n",
              "    .colab-df-container {\n",
              "      display:flex;\n",
              "      flex-wrap:wrap;\n",
              "      gap: 12px;\n",
              "    }\n",
              "\n",
              "    .colab-df-convert {\n",
              "      background-color: #E8F0FE;\n",
              "      border: none;\n",
              "      border-radius: 50%;\n",
              "      cursor: pointer;\n",
              "      display: none;\n",
              "      fill: #1967D2;\n",
              "      height: 32px;\n",
              "      padding: 0 0 0 0;\n",
              "      width: 32px;\n",
              "    }\n",
              "\n",
              "    .colab-df-convert:hover {\n",
              "      background-color: #E2EBFA;\n",
              "      box-shadow: 0px 1px 2px rgba(60, 64, 67, 0.3), 0px 1px 3px 1px rgba(60, 64, 67, 0.15);\n",
              "      fill: #174EA6;\n",
              "    }\n",
              "\n",
              "    [theme=dark] .colab-df-convert {\n",
              "      background-color: #3B4455;\n",
              "      fill: #D2E3FC;\n",
              "    }\n",
              "\n",
              "    [theme=dark] .colab-df-convert:hover {\n",
              "      background-color: #434B5C;\n",
              "      box-shadow: 0px 1px 3px 1px rgba(0, 0, 0, 0.15);\n",
              "      filter: drop-shadow(0px 1px 2px rgba(0, 0, 0, 0.3));\n",
              "      fill: #FFFFFF;\n",
              "    }\n",
              "  </style>\n",
              "\n",
              "      <script>\n",
              "        const buttonEl =\n",
              "          document.querySelector('#df-003acd16-3e6d-4da3-9b84-7ac10ec2e112 button.colab-df-convert');\n",
              "        buttonEl.style.display =\n",
              "          google.colab.kernel.accessAllowed ? 'block' : 'none';\n",
              "\n",
              "        async function convertToInteractive(key) {\n",
              "          const element = document.querySelector('#df-003acd16-3e6d-4da3-9b84-7ac10ec2e112');\n",
              "          const dataTable =\n",
              "            await google.colab.kernel.invokeFunction('convertToInteractive',\n",
              "                                                     [key], {});\n",
              "          if (!dataTable) return;\n",
              "\n",
              "          const docLinkHtml = 'Like what you see? Visit the ' +\n",
              "            '<a target=\"_blank\" href=https://colab.research.google.com/notebooks/data_table.ipynb>data table notebook</a>'\n",
              "            + ' to learn more about interactive tables.';\n",
              "          element.innerHTML = '';\n",
              "          dataTable['output_type'] = 'display_data';\n",
              "          await google.colab.output.renderOutput(dataTable, element);\n",
              "          const docLink = document.createElement('div');\n",
              "          docLink.innerHTML = docLinkHtml;\n",
              "          element.appendChild(docLink);\n",
              "        }\n",
              "      </script>\n",
              "    </div>\n",
              "  </div>\n",
              "  "
            ]
          },
          "metadata": {},
          "execution_count": 18
        }
      ]
    },
    {
      "cell_type": "code",
      "source": [
        "data.shape"
      ],
      "metadata": {
        "colab": {
          "base_uri": "https://localhost:8080/"
        },
        "id": "ouavnqLgq2eV",
        "outputId": "31f156a3-5a9e-425c-c0ce-7a9cc8dc7b63"
      },
      "execution_count": 19,
      "outputs": [
        {
          "output_type": "execute_result",
          "data": {
            "text/plain": [
              "(6819, 96)"
            ]
          },
          "metadata": {},
          "execution_count": 19
        }
      ]
    },
    {
      "cell_type": "markdown",
      "source": [
        "## Característica objetivo"
      ],
      "metadata": {
        "id": "WVuFaAd16lg5"
      }
    },
    {
      "cell_type": "code",
      "source": [
        "data['Bankrupt?'].value_counts()"
      ],
      "metadata": {
        "colab": {
          "base_uri": "https://localhost:8080/"
        },
        "id": "rsxt0Rd36lFP",
        "outputId": "d352747a-5251-4692-dab0-ccaa98ac713c"
      },
      "execution_count": 20,
      "outputs": [
        {
          "output_type": "execute_result",
          "data": {
            "text/plain": [
              "0    6599\n",
              "1     220\n",
              "Name: Bankrupt?, dtype: int64"
            ]
          },
          "metadata": {},
          "execution_count": 20
        }
      ]
    },
    {
      "cell_type": "code",
      "source": [
        "sns.countplot(x=data['Bankrupt?'])\n",
        "plt.title('¿Bancarrota?')"
      ],
      "metadata": {
        "colab": {
          "base_uri": "https://localhost:8080/",
          "height": 489
        },
        "id": "tgrGlOvQ6wEd",
        "outputId": "e6310497-ed4b-41a0-e97f-970ed2c3c2f7"
      },
      "execution_count": 21,
      "outputs": [
        {
          "output_type": "execute_result",
          "data": {
            "text/plain": [
              "Text(0.5, 1.0, '¿Bancarrota?')"
            ]
          },
          "metadata": {},
          "execution_count": 21
        },
        {
          "output_type": "display_data",
          "data": {
            "text/plain": [
              "<Figure size 640x480 with 1 Axes>"
            ],
            "image/png": "[encoded data removed]"
          },
          "metadata": {}
        }
      ]
    },
    {
      "cell_type": "markdown",
      "source": [
        "## Valores nulos"
      ],
      "metadata": {
        "id": "lHsu3_ly65Y6"
      }
    },
    {
      "cell_type": "code",
      "source": [
        "data.isnull().sum()"
      ],
      "metadata": {
        "colab": {
          "base_uri": "https://localhost:8080/"
        },
        "id": "4-BasGDRq63C",
        "outputId": "e9c7762d-0c8b-4e89-e1a3-51f18164aeb6"
      },
      "execution_count": 22,
      "outputs": [
        {
          "output_type": "execute_result",
          "data": {
            "text/plain": [
              "Bankrupt?                                                      0\n",
              " ROA(C) before interest and depreciation before interest       0\n",
              " ROA(A) before interest and % after tax                        0\n",
              " ROA(B) before interest and depreciation after tax             0\n",
              " Operating Gross Margin                                     1364\n",
              "                                                            ... \n",
              " Liability to Equity                                           0\n",
              " Degree of Financial Leverage (DFL)                            0\n",
              " Interest Coverage Ratio (Interest expense to EBIT)            0\n",
              " Net Income Flag                                               0\n",
              " Equity to Liability                                           0\n",
              "Length: 96, dtype: int64"
            ]
          },
          "metadata": {},
          "execution_count": 22
        }
      ]
    },
    {
      "cell_type": "code",
      "source": [
        "nulos = data.isna().sum() \n",
        "nulos [nulos != 0]"
      ],
      "metadata": {
        "colab": {
          "base_uri": "https://localhost:8080/"
        },
        "id": "7ssuEsh57NDs",
        "outputId": "3adcc0c5-4155-458c-8b6f-92a019378f17"
      },
      "execution_count": 23,
      "outputs": [
        {
          "output_type": "execute_result",
          "data": {
            "text/plain": [
              " Operating Gross Margin         1364\n",
              " Cash Turnover Rate             1364\n",
              " Current Liability to Equity    1364\n",
              "dtype: int64"
            ]
          },
          "metadata": {},
          "execution_count": 23
        }
      ]
    },
    {
      "cell_type": "markdown",
      "source": [
        "## Columnas categóricas"
      ],
      "metadata": {
        "id": "X_WvoTxq7UsD"
      }
    },
    {
      "cell_type": "code",
      "source": [
        "numeric_features = data.dtypes[data.dtypes != 'int64'].index\n",
        "categorical_features = data.dtypes[data.dtypes == 'int64'].index\n",
        "categorical_features2 = data.dtypes[data.dtypes == 'object'].index\n",
        "data[categorical_features].columns.tolist()"
      ],
      "metadata": {
        "colab": {
          "base_uri": "https://localhost:8080/"
        },
        "id": "hxqjVFlMrBxL",
        "outputId": "029acf80-1ff3-4558-ff53-1cc274da8fcb"
      },
      "execution_count": 24,
      "outputs": [
        {
          "output_type": "execute_result",
          "data": {
            "text/plain": [
              "['Bankrupt?', ' Liability-Assets Flag', ' Net Income Flag']"
            ]
          },
          "metadata": {},
          "execution_count": 24
        }
      ]
    },
    {
      "cell_type": "code",
      "source": [
        "categorical_features2 = data.dtypes[data.dtypes == 'object'].index\n",
        "data[categorical_features2].columns.tolist()"
      ],
      "metadata": {
        "colab": {
          "base_uri": "https://localhost:8080/"
        },
        "id": "cq9rfwKP7dFa",
        "outputId": "290fa5dd-ab39-44a4-a44c-bc0f910c9054"
      },
      "execution_count": 25,
      "outputs": [
        {
          "output_type": "execute_result",
          "data": {
            "text/plain": [
              "[' ROA(C) before interest and depreciation before interest',\n",
              " ' ROA(A) before interest and % after tax',\n",
              " ' ROA(B) before interest and depreciation after tax',\n",
              " ' Non-industry income and expenditure/revenue',\n",
              " ' Inventory Turnover Rate (times)',\n",
              " ' Working Capital/Equity',\n",
              " ' Cash Flow to Sales',\n",
              " ' Net Income to Total Assets']"
            ]
          },
          "metadata": {},
          "execution_count": 25
        }
      ]
    },
    {
      "cell_type": "markdown",
      "source": [
        "## Valores duplicados"
      ],
      "metadata": {
        "id": "Dsy58JKx8hw2"
      }
    },
    {
      "cell_type": "code",
      "source": [
        "data.duplicated().sum()"
      ],
      "metadata": {
        "colab": {
          "base_uri": "https://localhost:8080/"
        },
        "id": "MR_yGsa28fbs",
        "outputId": "fd6baebc-249d-4987-ae6d-54585bde85bb"
      },
      "execution_count": 26,
      "outputs": [
        {
          "output_type": "execute_result",
          "data": {
            "text/plain": [
              "0"
            ]
          },
          "metadata": {},
          "execution_count": 26
        }
      ]
    },
    {
      "cell_type": "markdown",
      "source": [
        "## Información de los datos"
      ],
      "metadata": {
        "id": "dOq2lp0t7uj2"
      }
    },
    {
      "cell_type": "code",
      "source": [
        "data.columns"
      ],
      "metadata": {
        "colab": {
          "base_uri": "https://localhost:8080/"
        },
        "id": "oP9yA5XVrQ8H",
        "outputId": "2a78880b-99f5-407f-84c8-d7bdf59fd363"
      },
      "execution_count": 27,
      "outputs": [
        {
          "output_type": "execute_result",
          "data": {
            "text/plain": [
              "Index(['Bankrupt?', ' ROA(C) before interest and depreciation before interest',\n",
              "       ' ROA(A) before interest and % after tax',\n",
              "       ' ROA(B) before interest and depreciation after tax',\n",
              "       ' Operating Gross Margin', ' Realized Sales Gross Margin',\n",
              "       ' Operating Profit Rate', ' Pre-tax net Interest Rate',\n",
              "       ' After-tax net Interest Rate',\n",
              "       ' Non-industry income and expenditure/revenue',\n",
              "       ' Continuous interest rate (after tax)', ' Operating Expense Rate',\n",
              "       ' Research and development expense rate', ' Cash flow rate',\n",
              "       ' Interest-bearing debt interest rate', ' Tax rate (A)',\n",
              "       ' Net Value Per Share (B)', ' Net Value Per Share (A)',\n",
              "       ' Net Value Per Share (C)', ' Persistent EPS in the Last Four Seasons',\n",
              "       ' Cash Flow Per Share', ' Revenue Per Share (Yuan ¥)',\n",
              "       ' Operating Profit Per Share (Yuan ¥)',\n",
              "       ' Per Share Net profit before tax (Yuan ¥)',\n",
              "       ' Realized Sales Gross Profit Growth Rate',\n",
              "       ' Operating Profit Growth Rate', ' After-tax Net Profit Growth Rate',\n",
              "       ' Regular Net Profit Growth Rate', ' Continuous Net Profit Growth Rate',\n",
              "       ' Total Asset Growth Rate', ' Net Value Growth Rate',\n",
              "       ' Total Asset Return Growth Rate Ratio', ' Cash Reinvestment %',\n",
              "       ' Current Ratio', ' Quick Ratio', ' Interest Expense Ratio',\n",
              "       ' Total debt/Total net worth', ' Debt ratio %', ' Net worth/Assets',\n",
              "       ' Long-term fund suitability ratio (A)', ' Borrowing dependency',\n",
              "       ' Contingent liabilities/Net worth',\n",
              "       ' Operating profit/Paid-in capital',\n",
              "       ' Net profit before tax/Paid-in capital',\n",
              "       ' Inventory and accounts receivable/Net value', ' Total Asset Turnover',\n",
              "       ' Accounts Receivable Turnover', ' Average Collection Days',\n",
              "       ' Inventory Turnover Rate (times)', ' Fixed Assets Turnover Frequency',\n",
              "       ' Net Worth Turnover Rate (times)', ' Revenue per person',\n",
              "       ' Operating profit per person', ' Allocation rate per person',\n",
              "       ' Working Capital to Total Assets', ' Quick Assets/Total Assets',\n",
              "       ' Current Assets/Total Assets', ' Cash/Total Assets',\n",
              "       ' Quick Assets/Current Liability', ' Cash/Current Liability',\n",
              "       ' Current Liability to Assets', ' Operating Funds to Liability',\n",
              "       ' Inventory/Working Capital', ' Inventory/Current Liability',\n",
              "       ' Current Liabilities/Liability', ' Working Capital/Equity',\n",
              "       ' Current Liabilities/Equity', ' Long-term Liability to Current Assets',\n",
              "       ' Retained Earnings to Total Assets', ' Total income/Total expense',\n",
              "       ' Total expense/Assets', ' Current Asset Turnover Rate',\n",
              "       ' Quick Asset Turnover Rate', ' Working capitcal Turnover Rate',\n",
              "       ' Cash Turnover Rate', ' Cash Flow to Sales', ' Fixed Assets to Assets',\n",
              "       ' Current Liability to Liability', ' Current Liability to Equity',\n",
              "       ' Equity to Long-term Liability', ' Cash Flow to Total Assets',\n",
              "       ' Cash Flow to Liability', ' CFO to Assets', ' Cash Flow to Equity',\n",
              "       ' Current Liability to Current Assets', ' Liability-Assets Flag',\n",
              "       ' Net Income to Total Assets', ' Total assets to GNP price',\n",
              "       ' No-credit Interval', ' Gross Profit to Sales',\n",
              "       ' Net Income to Stockholder's Equity', ' Liability to Equity',\n",
              "       ' Degree of Financial Leverage (DFL)',\n",
              "       ' Interest Coverage Ratio (Interest expense to EBIT)',\n",
              "       ' Net Income Flag', ' Equity to Liability'],\n",
              "      dtype='object')"
            ]
          },
          "metadata": {},
          "execution_count": 27
        }
      ]
    },
    {
      "cell_type": "markdown",
      "source": [
        "##Inspección de datos numéricos"
      ],
      "metadata": {
        "id": "SdqYTz4Kr4pf"
      }
    },
    {
      "cell_type": "code",
      "source": [
        "data._get_numeric_data().describe().T\n"
      ],
      "metadata": {
        "colab": {
          "base_uri": "https://localhost:8080/",
          "height": 424
        },
        "id": "4JbFDIxAr8Me",
        "outputId": "4f078c63-d311-4f58-955a-459dfab59cd3"
      },
      "execution_count": 28,
      "outputs": [
        {
          "output_type": "execute_result",
          "data": {
            "text/plain": [
              "                                                     count      mean  \\\n",
              "Bankrupt?                                           6819.0  0.032263   \n",
              " Operating Gross Margin                             5455.0  0.608066   \n",
              " Realized Sales Gross Margin                        6819.0  0.607929   \n",
              " Operating Profit Rate                              6819.0  0.998755   \n",
              " Pre-tax net Interest Rate                          6819.0  0.797190   \n",
              "...                                                    ...       ...   \n",
              " Liability to Equity                                6819.0  0.280365   \n",
              " Degree of Financial Leverage (DFL)                 6819.0  0.027541   \n",
              " Interest Coverage Ratio (Interest expense to E...  6819.0  0.565358   \n",
              " Net Income Flag                                    6819.0  1.000000   \n",
              " Equity to Liability                                6819.0  0.047578   \n",
              "\n",
              "                                                         std       min  \\\n",
              "Bankrupt?                                           0.176710  0.000000   \n",
              " Operating Gross Margin                             0.015624  0.156308   \n",
              " Realized Sales Gross Margin                        0.016916  0.000000   \n",
              " Operating Profit Rate                              0.013010  0.000000   \n",
              " Pre-tax net Interest Rate                          0.012869  0.000000   \n",
              "...                                                      ...       ...   \n",
              " Liability to Equity                                0.014463  0.000000   \n",
              " Degree of Financial Leverage (DFL)                 0.015668  0.000000   \n",
              " Interest Coverage Ratio (Interest expense to E...  0.013214  0.000000   \n",
              " Net Income Flag                                    0.000000  1.000000   \n",
              " Equity to Liability                                0.050014  0.000000   \n",
              "\n",
              "                                                         25%       50%  \\\n",
              "Bankrupt?                                           0.000000  0.000000   \n",
              " Operating Gross Margin                             0.600492  0.606048   \n",
              " Realized Sales Gross Margin                        0.600434  0.605976   \n",
              " Operating Profit Rate                              0.998969  0.999022   \n",
              " Pre-tax net Interest Rate                          0.797386  0.797464   \n",
              "...                                                      ...       ...   \n",
              " Liability to Equity                                0.276944  0.278778   \n",
              " Degree of Financial Leverage (DFL)                 0.026791  0.026808   \n",
              " Interest Coverage Ratio (Interest expense to E...  0.565158  0.565252   \n",
              " Net Income Flag                                    1.000000  1.000000   \n",
              " Equity to Liability                                0.024477  0.033798   \n",
              "\n",
              "                                                         75%  max  \n",
              "Bankrupt?                                           0.000000  1.0  \n",
              " Operating Gross Margin                             0.613842  1.0  \n",
              " Realized Sales Gross Margin                        0.613842  1.0  \n",
              " Operating Profit Rate                              0.999095  1.0  \n",
              " Pre-tax net Interest Rate                          0.797579  1.0  \n",
              "...                                                      ...  ...  \n",
              " Liability to Equity                                0.281449  1.0  \n",
              " Degree of Financial Leverage (DFL)                 0.026913  1.0  \n",
              " Interest Coverage Ratio (Interest expense to E...  0.565725  1.0  \n",
              " Net Income Flag                                    1.000000  1.0  \n",
              " Equity to Liability                                0.052838  1.0  \n",
              "\n",
              "[88 rows x 8 columns]"
            ],
            "text/html": [
              "\n",
              "  <div id=\"df-f507aa70-3adc-4bf1-a910-5e86002ae876\">\n",
              "    <div class=\"colab-df-container\">\n",
              "      <div>\n",
              "<style scoped>\n",
              "    .dataframe tbody tr th:only-of-type {\n",
              "        vertical-align: middle;\n",
              "    }\n",
              "\n",
              "    .dataframe tbody tr th {\n",
              "        vertical-align: top;\n",
              "    }\n",
              "\n",
              "    .dataframe thead th {\n",
              "        text-align: right;\n",
              "    }\n",
              "</style>\n",
              "<table border=\"1\" class=\"dataframe\">\n",
              "  <thead>\n",
              "    <tr style=\"text-align: right;\">\n",
              "      <th></th>\n",
              "      <th>count</th>\n",
              "      <th>mean</th>\n",
              "      <th>std</th>\n",
              "      <th>min</th>\n",
              "      <th>25%</th>\n",
              "      <th>50%</th>\n",
              "      <th>75%</th>\n",
              "      <th>max</th>\n",
              "    </tr>\n",
              "  </thead>\n",
              "  <tbody>\n",
              "    <tr>\n",
              "      <th>Bankrupt?</th>\n",
              "      <td>6819.0</td>\n",
              "      <td>0.032263</td>\n",
              "      <td>0.176710</td>\n",
              "      <td>0.000000</td>\n",
              "      <td>0.000000</td>\n",
              "      <td>0.000000</td>\n",
              "      <td>0.000000</td>\n",
              "      <td>1.0</td>\n",
              "    </tr>\n",
              "    <tr>\n",
              "      <th>Operating Gross Margin</th>\n",
              "      <td>5455.0</td>\n",
              "      <td>0.608066</td>\n",
              "      <td>0.015624</td>\n",
              "      <td>0.156308</td>\n",
              "      <td>0.600492</td>\n",
              "      <td>0.606048</td>\n",
              "      <td>0.613842</td>\n",
              "      <td>1.0</td>\n",
              "    </tr>\n",
              "    <tr>\n",
              "      <th>Realized Sales Gross Margin</th>\n",
              "      <td>6819.0</td>\n",
              "      <td>0.607929</td>\n",
              "      <td>0.016916</td>\n",
              "      <td>0.000000</td>\n",
              "      <td>0.600434</td>\n",
              "      <td>0.605976</td>\n",
              "      <td>0.613842</td>\n",
              "      <td>1.0</td>\n",
              "    </tr>\n",
              "    <tr>\n",
              "      <th>Operating Profit Rate</th>\n",
              "      <td>6819.0</td>\n",
              "      <td>0.998755</td>\n",
              "      <td>0.013010</td>\n",
              "      <td>0.000000</td>\n",
              "      <td>0.998969</td>\n",
              "      <td>0.999022</td>\n",
              "      <td>0.999095</td>\n",
              "      <td>1.0</td>\n",
              "    </tr>\n",
              "    <tr>\n",
              "      <th>Pre-tax net Interest Rate</th>\n",
              "      <td>6819.0</td>\n",
              "      <td>0.797190</td>\n",
              "      <td>0.012869</td>\n",
              "      <td>0.000000</td>\n",
              "      <td>0.797386</td>\n",
              "      <td>0.797464</td>\n",
              "      <td>0.797579</td>\n",
              "      <td>1.0</td>\n",
              "    </tr>\n",
              "    <tr>\n",
              "      <th>...</th>\n",
              "      <td>...</td>\n",
              "      <td>...</td>\n",
              "      <td>...</td>\n",
              "      <td>...</td>\n",
              "      <td>...</td>\n",
              "      <td>...</td>\n",
              "      <td>...</td>\n",
              "      <td>...</td>\n",
              "    </tr>\n",
              "    <tr>\n",
              "      <th>Liability to Equity</th>\n",
              "      <td>6819.0</td>\n",
              "      <td>0.280365</td>\n",
              "      <td>0.014463</td>\n",
              "      <td>0.000000</td>\n",
              "      <td>0.276944</td>\n",
              "      <td>0.278778</td>\n",
              "      <td>0.281449</td>\n",
              "      <td>1.0</td>\n",
              "    </tr>\n",
              "    <tr>\n",
              "      <th>Degree of Financial Leverage (DFL)</th>\n",
              "      <td>6819.0</td>\n",
              "      <td>0.027541</td>\n",
              "      <td>0.015668</td>\n",
              "      <td>0.000000</td>\n",
              "      <td>0.026791</td>\n",
              "      <td>0.026808</td>\n",
              "      <td>0.026913</td>\n",
              "      <td>1.0</td>\n",
              "    </tr>\n",
              "    <tr>\n",
              "      <th>Interest Coverage Ratio (Interest expense to EBIT)</th>\n",
              "      <td>6819.0</td>\n",
              "      <td>0.565358</td>\n",
              "      <td>0.013214</td>\n",
              "      <td>0.000000</td>\n",
              "      <td>0.565158</td>\n",
              "      <td>0.565252</td>\n",
              "      <td>0.565725</td>\n",
              "      <td>1.0</td>\n",
              "    </tr>\n",
              "    <tr>\n",
              "      <th>Net Income Flag</th>\n",
              "      <td>6819.0</td>\n",
              "      <td>1.000000</td>\n",
              "      <td>0.000000</td>\n",
              "      <td>1.000000</td>\n",
              "      <td>1.000000</td>\n",
              "      <td>1.000000</td>\n",
              "      <td>1.000000</td>\n",
              "      <td>1.0</td>\n",
              "    </tr>\n",
              "    <tr>\n",
              "      <th>Equity to Liability</th>\n",
              "      <td>6819.0</td>\n",
              "      <td>0.047578</td>\n",
              "      <td>0.050014</td>\n",
              "      <td>0.000000</td>\n",
              "      <td>0.024477</td>\n",
              "      <td>0.033798</td>\n",
              "      <td>0.052838</td>\n",
              "      <td>1.0</td>\n",
              "    </tr>\n",
              "  </tbody>\n",
              "</table>\n",
              "<p>88 rows × 8 columns</p>\n",
              "</div>\n",
              "      <button class=\"colab-df-convert\" onclick=\"convertToInteractive('df-f507aa70-3adc-4bf1-a910-5e86002ae876')\"\n",
              "              title=\"Convert this dataframe to an interactive table.\"\n",
              "              style=\"display:none;\">\n",
              "        \n",
              "  <svg xmlns=\"http://www.w3.org/2000/svg\" height=\"24px\"viewBox=\"0 0 24 24\"\n",
              "       width=\"24px\">\n",
              "    <path d=\"M0 0h24v24H0V0z\" fill=\"none\"/>\n",
              "    <path d=\"M18.56 5.44l.94 2.06.94-2.06 2.06-.94-2.06-.94-.94-2.06-.94 2.06-2.06.94zm-11 1L8.5 8.5l.94-2.06 2.06-.94-2.06-.94L8.5 2.5l-.94 2.06-2.06.94zm10 10l.94 2.06.94-2.06 2.06-.94-2.06-.94-.94-2.06-.94 2.06-2.06.94z\"/><path d=\"M17.41 7.96l-1.37-1.37c-.4-.4-.92-.59-1.43-.59-.52 0-1.04.2-1.43.59L10.3 9.45l-7.72 7.72c-.78.78-.78 2.05 0 2.83L4 21.41c.39.39.9.59 1.41.59.51 0 1.02-.2 1.41-.59l7.78-7.78 2.81-2.81c.8-.78.8-2.07 0-2.86zM5.41 20L4 18.59l7.72-7.72 1.47 1.35L5.41 20z\"/>\n",
              "  </svg>\n",
              "      </button>\n",
              "      \n",
              "  <style>\n",
              "    .colab-df-container {\n",
              "      display:flex;\n",
              "      flex-wrap:wrap;\n",
              "      gap: 12px;\n",
              "    }\n",
              "\n",
              "    .colab-df-convert {\n",
              "      background-color: #E8F0FE;\n",
              "      border: none;\n",
              "      border-radius: 50%;\n",
              "      cursor: pointer;\n",
              "      display: none;\n",
              "      fill: #1967D2;\n",
              "      height: 32px;\n",
              "      padding: 0 0 0 0;\n",
              "      width: 32px;\n",
              "    }\n",
              "\n",
              "    .colab-df-convert:hover {\n",
              "      background-color: #E2EBFA;\n",
              "      box-shadow: 0px 1px 2px rgba(60, 64, 67, 0.3), 0px 1px 3px 1px rgba(60, 64, 67, 0.15);\n",
              "      fill: #174EA6;\n",
              "    }\n",
              "\n",
              "    [theme=dark] .colab-df-convert {\n",
              "      background-color: #3B4455;\n",
              "      fill: #D2E3FC;\n",
              "    }\n",
              "\n",
              "    [theme=dark] .colab-df-convert:hover {\n",
              "      background-color: #434B5C;\n",
              "      box-shadow: 0px 1px 3px 1px rgba(0, 0, 0, 0.15);\n",
              "      filter: drop-shadow(0px 1px 2px rgba(0, 0, 0, 0.3));\n",
              "      fill: #FFFFFF;\n",
              "    }\n",
              "  </style>\n",
              "\n",
              "      <script>\n",
              "        const buttonEl =\n",
              "          document.querySelector('#df-f507aa70-3adc-4bf1-a910-5e86002ae876 button.colab-df-convert');\n",
              "        buttonEl.style.display =\n",
              "          google.colab.kernel.accessAllowed ? 'block' : 'none';\n",
              "\n",
              "        async function convertToInteractive(key) {\n",
              "          const element = document.querySelector('#df-f507aa70-3adc-4bf1-a910-5e86002ae876');\n",
              "          const dataTable =\n",
              "            await google.colab.kernel.invokeFunction('convertToInteractive',\n",
              "                                                     [key], {});\n",
              "          if (!dataTable) return;\n",
              "\n",
              "          const docLinkHtml = 'Like what you see? Visit the ' +\n",
              "            '<a target=\"_blank\" href=https://colab.research.google.com/notebooks/data_table.ipynb>data table notebook</a>'\n",
              "            + ' to learn more about interactive tables.';\n",
              "          element.innerHTML = '';\n",
              "          dataTable['output_type'] = 'display_data';\n",
              "          await google.colab.output.renderOutput(dataTable, element);\n",
              "          const docLink = document.createElement('div');\n",
              "          docLink.innerHTML = docLinkHtml;\n",
              "          element.appendChild(docLink);\n",
              "        }\n",
              "      </script>\n",
              "    </div>\n",
              "  </div>\n",
              "  "
            ]
          },
          "metadata": {},
          "execution_count": 28
        }
      ]
    },
    {
      "cell_type": "markdown",
      "source": [
        "##Inspección de datos categóricos"
      ],
      "metadata": {
        "id": "AdrAwuWEr_Fu"
      }
    },
    {
      "cell_type": "code",
      "source": [
        "for column in categorical_features2:\n",
        "  print(column)\n",
        "  df = pd.DataFrame(data[column].value_counts())\n",
        "  df.columns = ['']\n",
        "  print (df)\n",
        "  print ('')"
      ],
      "metadata": {
        "colab": {
          "base_uri": "https://localhost:8080/"
        },
        "id": "iA7rFhiG-pCf",
        "outputId": "3906b66e-e071-45cd-ae6d-f226da9b79cc"
      },
      "execution_count": 29,
      "outputs": [
        {
          "output_type": "stream",
          "name": "stdout",
          "text": [
            " ROA(C) before interest and depreciation before interest\n",
            "            \n",
            "MEDIUM  6688\n",
            "HIGH      75\n",
            "LOW       56\n",
            "\n",
            " ROA(A) before interest and % after tax\n",
            "            \n",
            "MEDIUM  6470\n",
            "HIGH     295\n",
            "LOW       54\n",
            "\n",
            " ROA(B) before interest and depreciation after tax\n",
            "            \n",
            "MEDIUM  6540\n",
            "HIGH     241\n",
            "LOW       38\n",
            "\n",
            " Non-industry income and expenditure/revenue\n",
            "            \n",
            "LOW     6815\n",
            "HIGH       2\n",
            "MEDIUM     2\n",
            "\n",
            " Inventory Turnover Rate (times)\n",
            "            \n",
            "LOW     3868\n",
            "HIGH    2947\n",
            "MEDIUM     4\n",
            "\n",
            " Working Capital/Equity\n",
            "            \n",
            "HIGH    6814\n",
            "MEDIUM     4\n",
            "LOW        1\n",
            "\n",
            " Cash Flow to Sales\n",
            "            \n",
            "HIGH    6816\n",
            "MEDIUM     2\n",
            "LOW        1\n",
            "\n",
            " Net Income to Total Assets\n",
            "            \n",
            "HIGH    6766\n",
            "MEDIUM    51\n",
            "LOW        2\n",
            "\n"
          ]
        }
      ]
    },
    {
      "cell_type": "code",
      "source": [],
      "metadata": {
        "id": "j_qkdgl0sQLu"
      },
      "execution_count": 29,
      "outputs": []
    }
  ]
}