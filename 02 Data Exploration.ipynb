{
  "nbformat": 4,
  "nbformat_minor": 0,
  "metadata": {
    "colab": {
      "provenance": [],
      "authorship_tag": "ABX9TyMJ7w+tCFQtecZvMA2Frxew",
      "include_colab_link": true
    },
    "kernelspec": {
      "name": "python3",
      "display_name": "Python 3"
    },
    "language_info": {
      "name": "python"
    }
  },
  "cells": [
    {
      "cell_type": "markdown",
      "metadata": {
        "id": "view-in-github",
        "colab_type": "text"
      },
      "source": [
        "<a href=\"https://colab.research.google.com/github/orimejia/Proyecto-AI/blob/main/02%20Data%20Exploration.ipynb\" target=\"_parent\"><img src=\"https://colab.research.google.com/assets/colab-badge.svg\" alt=\"Open In Colab\"/></a>"
      ]
    },
    {
      "cell_type": "markdown",
      "source": [
        "#Data Exploration"
      ],
      "metadata": {
        "id": "ZMA9NX9oj0Ma"
      }
    },
    {
      "cell_type": "code",
      "execution_count": 25,
      "metadata": {
        "colab": {
          "base_uri": "https://localhost:8080/"
        },
        "id": "0XDvXVK9jRsY",
        "outputId": "094d76f5-c992-4993-9e54-c8ae484640c3"
      },
      "outputs": [
        {
          "output_type": "stream",
          "name": "stderr",
          "text": [
            "/usr/local/lib/python3.9/dist-packages/ipykernel/ipkernel.py:283: DeprecationWarning: `should_run_async` will not call `transform_cell` automatically in the future. Please pass the result to `transformed_cell` argument and any exception that happen during thetransform in `preprocessing_exc_tuple` in IPython 7.17 and above.\n",
            "  and should_run_async(code)\n"
          ]
        }
      ],
      "source": [
        "import pandas as pd\n",
        "import numpy as np\n",
        "import matplotlib.pyplot as plt\n",
        "import seaborn as sns\n",
        "import warnings \n",
        "warnings.filterwarnings('always')\n",
        "%matplotlib inline"
      ]
    },
    {
      "cell_type": "markdown",
      "source": [
        "### DataFrame Info"
      ],
      "metadata": {
        "id": "hIil9oS0jujD"
      }
    },
    {
      "cell_type": "code",
      "source": [
        "url = 'https://raw.githubusercontent.com/orimejia/Proyecto-AI/main/RegularSeasonDetailedResults_processed.csv'\n",
        "df = pd.read_csv(url)\n",
        "df.head()"
      ],
      "metadata": {
        "colab": {
          "base_uri": "https://localhost:8080/",
          "height": 290
        },
        "id": "SyKINr5AjmPh",
        "outputId": "8dc207bc-51b3-4dde-c44c-3bcca4d88463"
      },
      "execution_count": 6,
      "outputs": [
        {
          "output_type": "stream",
          "name": "stderr",
          "text": [
            "/usr/local/lib/python3.9/dist-packages/ipykernel/ipkernel.py:283: DeprecationWarning: `should_run_async` will not call `transform_cell` automatically in the future. Please pass the result to `transformed_cell` argument and any exception that happen during thetransform in `preprocessing_exc_tuple` in IPython 7.17 and above.\n",
            "  and should_run_async(code)\n"
          ]
        },
        {
          "output_type": "execute_result",
          "data": {
            "text/plain": [
              "   Season  Daynum  Wteam  Wscore  Lteam  Lscore Wloc  Numot  Wfgm  Wfga  ...  \\\n",
              "0    2003      10   1104    68.0   1328      62    N      0    27    58  ...   \n",
              "1    2003      10   1272    70.0   1393      63    N      0    26    62  ...   \n",
              "2    2003      11   1266    73.0   1437      61    N      0    24    58  ...   \n",
              "3    2003      11   1296    56.0   1457      50    N      0    18    38  ...   \n",
              "4    2003      11   1400    77.0   1208      71    N      0    30    61  ...   \n",
              "\n",
              "   Lfga3  Lftm  Lfta  Lor   Ldr  Last  Lto  Lstl  Lblk  Lpf  \n",
              "0   10.0  16.0    22   10  22.0     8   18     9     2   20  \n",
              "1   24.0   9.0    20   20  25.0     7   12     8     6   16  \n",
              "2   26.0  14.0    23   31  22.0     9   12     2     5   23  \n",
              "3   22.0   8.0    15   17  20.0     9   19     4     3   23  \n",
              "4    NaN   NaN    27   21   NaN    12   10     7     1   14  \n",
              "\n",
              "[5 rows x 34 columns]"
            ],
            "text/html": [
              "\n",
              "  <div id=\"df-91725e34-a65a-4e86-a10a-081435f3cc53\">\n",
              "    <div class=\"colab-df-container\">\n",
              "      <div>\n",
              "<style scoped>\n",
              "    .dataframe tbody tr th:only-of-type {\n",
              "        vertical-align: middle;\n",
              "    }\n",
              "\n",
              "    .dataframe tbody tr th {\n",
              "        vertical-align: top;\n",
              "    }\n",
              "\n",
              "    .dataframe thead th {\n",
              "        text-align: right;\n",
              "    }\n",
              "</style>\n",
              "<table border=\"1\" class=\"dataframe\">\n",
              "  <thead>\n",
              "    <tr style=\"text-align: right;\">\n",
              "      <th></th>\n",
              "      <th>Season</th>\n",
              "      <th>Daynum</th>\n",
              "      <th>Wteam</th>\n",
              "      <th>Wscore</th>\n",
              "      <th>Lteam</th>\n",
              "      <th>Lscore</th>\n",
              "      <th>Wloc</th>\n",
              "      <th>Numot</th>\n",
              "      <th>Wfgm</th>\n",
              "      <th>Wfga</th>\n",
              "      <th>...</th>\n",
              "      <th>Lfga3</th>\n",
              "      <th>Lftm</th>\n",
              "      <th>Lfta</th>\n",
              "      <th>Lor</th>\n",
              "      <th>Ldr</th>\n",
              "      <th>Last</th>\n",
              "      <th>Lto</th>\n",
              "      <th>Lstl</th>\n",
              "      <th>Lblk</th>\n",
              "      <th>Lpf</th>\n",
              "    </tr>\n",
              "  </thead>\n",
              "  <tbody>\n",
              "    <tr>\n",
              "      <th>0</th>\n",
              "      <td>2003</td>\n",
              "      <td>10</td>\n",
              "      <td>1104</td>\n",
              "      <td>68.0</td>\n",
              "      <td>1328</td>\n",
              "      <td>62</td>\n",
              "      <td>N</td>\n",
              "      <td>0</td>\n",
              "      <td>27</td>\n",
              "      <td>58</td>\n",
              "      <td>...</td>\n",
              "      <td>10.0</td>\n",
              "      <td>16.0</td>\n",
              "      <td>22</td>\n",
              "      <td>10</td>\n",
              "      <td>22.0</td>\n",
              "      <td>8</td>\n",
              "      <td>18</td>\n",
              "      <td>9</td>\n",
              "      <td>2</td>\n",
              "      <td>20</td>\n",
              "    </tr>\n",
              "    <tr>\n",
              "      <th>1</th>\n",
              "      <td>2003</td>\n",
              "      <td>10</td>\n",
              "      <td>1272</td>\n",
              "      <td>70.0</td>\n",
              "      <td>1393</td>\n",
              "      <td>63</td>\n",
              "      <td>N</td>\n",
              "      <td>0</td>\n",
              "      <td>26</td>\n",
              "      <td>62</td>\n",
              "      <td>...</td>\n",
              "      <td>24.0</td>\n",
              "      <td>9.0</td>\n",
              "      <td>20</td>\n",
              "      <td>20</td>\n",
              "      <td>25.0</td>\n",
              "      <td>7</td>\n",
              "      <td>12</td>\n",
              "      <td>8</td>\n",
              "      <td>6</td>\n",
              "      <td>16</td>\n",
              "    </tr>\n",
              "    <tr>\n",
              "      <th>2</th>\n",
              "      <td>2003</td>\n",
              "      <td>11</td>\n",
              "      <td>1266</td>\n",
              "      <td>73.0</td>\n",
              "      <td>1437</td>\n",
              "      <td>61</td>\n",
              "      <td>N</td>\n",
              "      <td>0</td>\n",
              "      <td>24</td>\n",
              "      <td>58</td>\n",
              "      <td>...</td>\n",
              "      <td>26.0</td>\n",
              "      <td>14.0</td>\n",
              "      <td>23</td>\n",
              "      <td>31</td>\n",
              "      <td>22.0</td>\n",
              "      <td>9</td>\n",
              "      <td>12</td>\n",
              "      <td>2</td>\n",
              "      <td>5</td>\n",
              "      <td>23</td>\n",
              "    </tr>\n",
              "    <tr>\n",
              "      <th>3</th>\n",
              "      <td>2003</td>\n",
              "      <td>11</td>\n",
              "      <td>1296</td>\n",
              "      <td>56.0</td>\n",
              "      <td>1457</td>\n",
              "      <td>50</td>\n",
              "      <td>N</td>\n",
              "      <td>0</td>\n",
              "      <td>18</td>\n",
              "      <td>38</td>\n",
              "      <td>...</td>\n",
              "      <td>22.0</td>\n",
              "      <td>8.0</td>\n",
              "      <td>15</td>\n",
              "      <td>17</td>\n",
              "      <td>20.0</td>\n",
              "      <td>9</td>\n",
              "      <td>19</td>\n",
              "      <td>4</td>\n",
              "      <td>3</td>\n",
              "      <td>23</td>\n",
              "    </tr>\n",
              "    <tr>\n",
              "      <th>4</th>\n",
              "      <td>2003</td>\n",
              "      <td>11</td>\n",
              "      <td>1400</td>\n",
              "      <td>77.0</td>\n",
              "      <td>1208</td>\n",
              "      <td>71</td>\n",
              "      <td>N</td>\n",
              "      <td>0</td>\n",
              "      <td>30</td>\n",
              "      <td>61</td>\n",
              "      <td>...</td>\n",
              "      <td>NaN</td>\n",
              "      <td>NaN</td>\n",
              "      <td>27</td>\n",
              "      <td>21</td>\n",
              "      <td>NaN</td>\n",
              "      <td>12</td>\n",
              "      <td>10</td>\n",
              "      <td>7</td>\n",
              "      <td>1</td>\n",
              "      <td>14</td>\n",
              "    </tr>\n",
              "  </tbody>\n",
              "</table>\n",
              "<p>5 rows × 34 columns</p>\n",
              "</div>\n",
              "      <button class=\"colab-df-convert\" onclick=\"convertToInteractive('df-91725e34-a65a-4e86-a10a-081435f3cc53')\"\n",
              "              title=\"Convert this dataframe to an interactive table.\"\n",
              "              style=\"display:none;\">\n",
              "        \n",
              "  <svg xmlns=\"http://www.w3.org/2000/svg\" height=\"24px\"viewBox=\"0 0 24 24\"\n",
              "       width=\"24px\">\n",
              "    <path d=\"M0 0h24v24H0V0z\" fill=\"none\"/>\n",
              "    <path d=\"M18.56 5.44l.94 2.06.94-2.06 2.06-.94-2.06-.94-.94-2.06-.94 2.06-2.06.94zm-11 1L8.5 8.5l.94-2.06 2.06-.94-2.06-.94L8.5 2.5l-.94 2.06-2.06.94zm10 10l.94 2.06.94-2.06 2.06-.94-2.06-.94-.94-2.06-.94 2.06-2.06.94z\"/><path d=\"M17.41 7.96l-1.37-1.37c-.4-.4-.92-.59-1.43-.59-.52 0-1.04.2-1.43.59L10.3 9.45l-7.72 7.72c-.78.78-.78 2.05 0 2.83L4 21.41c.39.39.9.59 1.41.59.51 0 1.02-.2 1.41-.59l7.78-7.78 2.81-2.81c.8-.78.8-2.07 0-2.86zM5.41 20L4 18.59l7.72-7.72 1.47 1.35L5.41 20z\"/>\n",
              "  </svg>\n",
              "      </button>\n",
              "      \n",
              "  <style>\n",
              "    .colab-df-container {\n",
              "      display:flex;\n",
              "      flex-wrap:wrap;\n",
              "      gap: 12px;\n",
              "    }\n",
              "\n",
              "    .colab-df-convert {\n",
              "      background-color: #E8F0FE;\n",
              "      border: none;\n",
              "      border-radius: 50%;\n",
              "      cursor: pointer;\n",
              "      display: none;\n",
              "      fill: #1967D2;\n",
              "      height: 32px;\n",
              "      padding: 0 0 0 0;\n",
              "      width: 32px;\n",
              "    }\n",
              "\n",
              "    .colab-df-convert:hover {\n",
              "      background-color: #E2EBFA;\n",
              "      box-shadow: 0px 1px 2px rgba(60, 64, 67, 0.3), 0px 1px 3px 1px rgba(60, 64, 67, 0.15);\n",
              "      fill: #174EA6;\n",
              "    }\n",
              "\n",
              "    [theme=dark] .colab-df-convert {\n",
              "      background-color: #3B4455;\n",
              "      fill: #D2E3FC;\n",
              "    }\n",
              "\n",
              "    [theme=dark] .colab-df-convert:hover {\n",
              "      background-color: #434B5C;\n",
              "      box-shadow: 0px 1px 3px 1px rgba(0, 0, 0, 0.15);\n",
              "      filter: drop-shadow(0px 1px 2px rgba(0, 0, 0, 0.3));\n",
              "      fill: #FFFFFF;\n",
              "    }\n",
              "  </style>\n",
              "\n",
              "      <script>\n",
              "        const buttonEl =\n",
              "          document.querySelector('#df-91725e34-a65a-4e86-a10a-081435f3cc53 button.colab-df-convert');\n",
              "        buttonEl.style.display =\n",
              "          google.colab.kernel.accessAllowed ? 'block' : 'none';\n",
              "\n",
              "        async function convertToInteractive(key) {\n",
              "          const element = document.querySelector('#df-91725e34-a65a-4e86-a10a-081435f3cc53');\n",
              "          const dataTable =\n",
              "            await google.colab.kernel.invokeFunction('convertToInteractive',\n",
              "                                                     [key], {});\n",
              "          if (!dataTable) return;\n",
              "\n",
              "          const docLinkHtml = 'Like what you see? Visit the ' +\n",
              "            '<a target=\"_blank\" href=https://colab.research.google.com/notebooks/data_table.ipynb>data table notebook</a>'\n",
              "            + ' to learn more about interactive tables.';\n",
              "          element.innerHTML = '';\n",
              "          dataTable['output_type'] = 'display_data';\n",
              "          await google.colab.output.renderOutput(dataTable, element);\n",
              "          const docLink = document.createElement('div');\n",
              "          docLink.innerHTML = docLinkHtml;\n",
              "          element.appendChild(docLink);\n",
              "        }\n",
              "      </script>\n",
              "    </div>\n",
              "  </div>\n",
              "  "
            ]
          },
          "metadata": {},
          "execution_count": 6
        }
      ]
    },
    {
      "cell_type": "markdown",
      "source": [
        "### Tamaño del dataset"
      ],
      "metadata": {
        "id": "f0K3BeS6k2Bt"
      }
    },
    {
      "cell_type": "code",
      "source": [
        "print(df.shape)"
      ],
      "metadata": {
        "colab": {
          "base_uri": "https://localhost:8080/"
        },
        "id": "TQGoX9ZUkqPs",
        "outputId": "714d3cd5-d925-4a26-cf5b-7729c9039bca"
      },
      "execution_count": 7,
      "outputs": [
        {
          "output_type": "stream",
          "name": "stdout",
          "text": [
            "(76636, 34)\n"
          ]
        },
        {
          "output_type": "stream",
          "name": "stderr",
          "text": [
            "/usr/local/lib/python3.9/dist-packages/ipykernel/ipkernel.py:283: DeprecationWarning: `should_run_async` will not call `transform_cell` automatically in the future. Please pass the result to `transformed_cell` argument and any exception that happen during thetransform in `preprocessing_exc_tuple` in IPython 7.17 and above.\n",
            "  and should_run_async(code)\n"
          ]
        }
      ]
    },
    {
      "cell_type": "markdown",
      "source": [
        "### Valores nulos"
      ],
      "metadata": {
        "id": "Se0ycNnFlEmW"
      }
    },
    {
      "cell_type": "code",
      "source": [
        "na_values = df.isna().sum()\n",
        "na_values[na_values != 0]"
      ],
      "metadata": {
        "colab": {
          "base_uri": "https://localhost:8080/"
        },
        "id": "70D0zgzTlAyW",
        "outputId": "ccee8d24-1bb8-4295-f675-a20290d3a765"
      },
      "execution_count": 8,
      "outputs": [
        {
          "output_type": "stream",
          "name": "stderr",
          "text": [
            "/usr/local/lib/python3.9/dist-packages/ipykernel/ipkernel.py:283: DeprecationWarning: `should_run_async` will not call `transform_cell` automatically in the future. Please pass the result to `transformed_cell` argument and any exception that happen during thetransform in `preprocessing_exc_tuple` in IPython 7.17 and above.\n",
            "  and should_run_async(code)\n"
          ]
        },
        {
          "output_type": "execute_result",
          "data": {
            "text/plain": [
              "Wscore     501\n",
              "Wfgm3      501\n",
              "Wftm       501\n",
              "Lfga3     7309\n",
              "Lftm      7309\n",
              "Ldr       7309\n",
              "dtype: int64"
            ]
          },
          "metadata": {},
          "execution_count": 8
        }
      ]
    },
    {
      "cell_type": "markdown",
      "source": [
        "### Variables objetivo"
      ],
      "metadata": {
        "id": "mRbnwFNKl-JX"
      }
    },
    {
      "cell_type": "code",
      "source": [
        "sns.histplot(df[\"Wteam\"]);\n"
      ],
      "metadata": {
        "colab": {
          "base_uri": "https://localhost:8080/",
          "height": 504
        },
        "id": "sCN_RxbmlTrF",
        "outputId": "0e3cc1e4-4846-4191-fb78-9f0efa807199"
      },
      "execution_count": 10,
      "outputs": [
        {
          "output_type": "stream",
          "name": "stderr",
          "text": [
            "/usr/local/lib/python3.9/dist-packages/ipykernel/ipkernel.py:283: DeprecationWarning: `should_run_async` will not call `transform_cell` automatically in the future. Please pass the result to `transformed_cell` argument and any exception that happen during thetransform in `preprocessing_exc_tuple` in IPython 7.17 and above.\n",
            "  and should_run_async(code)\n"
          ]
        },
        {
          "output_type": "display_data",
          "data": {
            "text/plain": [
              "<Figure size 640x480 with 1 Axes>"
            ],
            "image/png": "[encoded data removed]"
          },
          "metadata": {}
        }
      ]
    },
    {
      "cell_type": "code",
      "source": [
        "sns.histplot(df[\"Lteam\"]);\n"
      ],
      "metadata": {
        "colab": {
          "base_uri": "https://localhost:8080/",
          "height": 504
        },
        "id": "tNFFTO76mNVE",
        "outputId": "2b23e412-bfa4-4d96-afe9-b759b5adf545"
      },
      "execution_count": 11,
      "outputs": [
        {
          "output_type": "stream",
          "name": "stderr",
          "text": [
            "/usr/local/lib/python3.9/dist-packages/ipykernel/ipkernel.py:283: DeprecationWarning: `should_run_async` will not call `transform_cell` automatically in the future. Please pass the result to `transformed_cell` argument and any exception that happen during thetransform in `preprocessing_exc_tuple` in IPython 7.17 and above.\n",
            "  and should_run_async(code)\n"
          ]
        },
        {
          "output_type": "display_data",
          "data": {
            "text/plain": [
              "<Figure size 640x480 with 1 Axes>"
            ],
            "image/png": "[encoded data removed]"
          },
          "metadata": {}
        }
      ]
    },
    {
      "cell_type": "code",
      "source": [
        "sns.histplot(df[\"Wscore\"]);\n"
      ],
      "metadata": {
        "colab": {
          "base_uri": "https://localhost:8080/",
          "height": 510
        },
        "id": "O7g8T3e8mSdr",
        "outputId": "32e91b87-fdd2-4851-8a79-ff16d638789b"
      },
      "execution_count": 12,
      "outputs": [
        {
          "output_type": "stream",
          "name": "stderr",
          "text": [
            "/usr/local/lib/python3.9/dist-packages/ipykernel/ipkernel.py:283: DeprecationWarning: `should_run_async` will not call `transform_cell` automatically in the future. Please pass the result to `transformed_cell` argument and any exception that happen during thetransform in `preprocessing_exc_tuple` in IPython 7.17 and above.\n",
            "  and should_run_async(code)\n"
          ]
        },
        {
          "output_type": "display_data",
          "data": {
            "text/plain": [
              "<Figure size 640x480 with 1 Axes>"
            ],
            "image/png": "[encoded data removed]"
          },
          "metadata": {}
        }
      ]
    },
    {
      "cell_type": "code",
      "source": [
        "sns.histplot(df[\"Lscore\"]);"
      ],
      "metadata": {
        "colab": {
          "base_uri": "https://localhost:8080/",
          "height": 504
        },
        "id": "gL7do26hmVhM",
        "outputId": "d2db7e2f-3954-4de7-d1c6-4c69c63c5d05"
      },
      "execution_count": 13,
      "outputs": [
        {
          "output_type": "stream",
          "name": "stderr",
          "text": [
            "/usr/local/lib/python3.9/dist-packages/ipykernel/ipkernel.py:283: DeprecationWarning: `should_run_async` will not call `transform_cell` automatically in the future. Please pass the result to `transformed_cell` argument and any exception that happen during thetransform in `preprocessing_exc_tuple` in IPython 7.17 and above.\n",
            "  and should_run_async(code)\n"
          ]
        },
        {
          "output_type": "display_data",
          "data": {
            "text/plain": [
              "<Figure size 640x480 with 1 Axes>"
            ],
            "image/png": "[encoded data removed]"
          },
          "metadata": {}
        }
      ]
    },
    {
      "cell_type": "markdown",
      "source": [
        "### Tipos de datos "
      ],
      "metadata": {
        "id": "pxeMgybOmldJ"
      }
    },
    {
      "cell_type": "code",
      "source": [
        "df.columns"
      ],
      "metadata": {
        "colab": {
          "base_uri": "https://localhost:8080/"
        },
        "id": "61joN-ivmWQ5",
        "outputId": "a398a167-c24a-4660-b7e1-d361ff883300"
      },
      "execution_count": 14,
      "outputs": [
        {
          "output_type": "stream",
          "name": "stderr",
          "text": [
            "/usr/local/lib/python3.9/dist-packages/ipykernel/ipkernel.py:283: DeprecationWarning: `should_run_async` will not call `transform_cell` automatically in the future. Please pass the result to `transformed_cell` argument and any exception that happen during thetransform in `preprocessing_exc_tuple` in IPython 7.17 and above.\n",
            "  and should_run_async(code)\n"
          ]
        },
        {
          "output_type": "execute_result",
          "data": {
            "text/plain": [
              "Index(['Season', 'Daynum', 'Wteam', 'Wscore', 'Lteam', 'Lscore', 'Wloc',\n",
              "       'Numot', 'Wfgm', 'Wfga', 'Wfgm3', 'Wfga3', 'Wftm', 'Wfta', 'Wor', 'Wdr',\n",
              "       'Wast', 'Wto', 'Wstl', 'Wblk', 'Wpf', 'Lfgm', 'Lfga', 'Lfgm3', 'Lfga3',\n",
              "       'Lftm', 'Lfta', 'Lor', 'Ldr', 'Last', 'Lto', 'Lstl', 'Lblk', 'Lpf'],\n",
              "      dtype='object')"
            ]
          },
          "metadata": {},
          "execution_count": 14
        }
      ]
    },
    {
      "cell_type": "code",
      "source": [
        "df.info()"
      ],
      "metadata": {
        "colab": {
          "base_uri": "https://localhost:8080/"
        },
        "id": "Kv2oDrtYmpRJ",
        "outputId": "47cbd5c9-3266-4848-c50c-ac79e6b71861"
      },
      "execution_count": 15,
      "outputs": [
        {
          "output_type": "stream",
          "name": "stderr",
          "text": [
            "/usr/local/lib/python3.9/dist-packages/ipykernel/ipkernel.py:283: DeprecationWarning: `should_run_async` will not call `transform_cell` automatically in the future. Please pass the result to `transformed_cell` argument and any exception that happen during thetransform in `preprocessing_exc_tuple` in IPython 7.17 and above.\n",
            "  and should_run_async(code)\n"
          ]
        },
        {
          "output_type": "stream",
          "name": "stdout",
          "text": [
            "<class 'pandas.core.frame.DataFrame'>\n",
            "RangeIndex: 76636 entries, 0 to 76635\n",
            "Data columns (total 34 columns):\n",
            " #   Column  Non-Null Count  Dtype  \n",
            "---  ------  --------------  -----  \n",
            " 0   Season  76636 non-null  int64  \n",
            " 1   Daynum  76636 non-null  int64  \n",
            " 2   Wteam   76636 non-null  int64  \n",
            " 3   Wscore  76135 non-null  float64\n",
            " 4   Lteam   76636 non-null  int64  \n",
            " 5   Lscore  76636 non-null  int64  \n",
            " 6   Wloc    76636 non-null  object \n",
            " 7   Numot   76636 non-null  int64  \n",
            " 8   Wfgm    76636 non-null  int64  \n",
            " 9   Wfga    76636 non-null  int64  \n",
            " 10  Wfgm3   76135 non-null  float64\n",
            " 11  Wfga3   76636 non-null  int64  \n",
            " 12  Wftm    76135 non-null  float64\n",
            " 13  Wfta    76636 non-null  int64  \n",
            " 14  Wor     76636 non-null  int64  \n",
            " 15  Wdr     76636 non-null  int64  \n",
            " 16  Wast    76636 non-null  int64  \n",
            " 17  Wto     76636 non-null  int64  \n",
            " 18  Wstl    76636 non-null  int64  \n",
            " 19  Wblk    76636 non-null  int64  \n",
            " 20  Wpf     76636 non-null  int64  \n",
            " 21  Lfgm    76636 non-null  object \n",
            " 22  Lfga    76636 non-null  object \n",
            " 23  Lfgm3   76636 non-null  object \n",
            " 24  Lfga3   69327 non-null  float64\n",
            " 25  Lftm    69327 non-null  float64\n",
            " 26  Lfta    76636 non-null  int64  \n",
            " 27  Lor     76636 non-null  int64  \n",
            " 28  Ldr     69327 non-null  float64\n",
            " 29  Last    76636 non-null  int64  \n",
            " 30  Lto     76636 non-null  int64  \n",
            " 31  Lstl    76636 non-null  int64  \n",
            " 32  Lblk    76636 non-null  int64  \n",
            " 33  Lpf     76636 non-null  int64  \n",
            "dtypes: float64(6), int64(24), object(4)\n",
            "memory usage: 19.9+ MB\n"
          ]
        }
      ]
    },
    {
      "cell_type": "markdown",
      "source": [
        "### Inspección numérica"
      ],
      "metadata": {
        "id": "UzsvAqBBmy_E"
      }
    },
    {
      "cell_type": "code",
      "source": [
        "df._get_numeric_data().describe().T"
      ],
      "metadata": {
        "colab": {
          "base_uri": "https://localhost:8080/",
          "height": 1000
        },
        "id": "sbDInVP7mtl6",
        "outputId": "636aa9db-fb30-498f-8b22-1e4746bb585f"
      },
      "execution_count": 16,
      "outputs": [
        {
          "output_type": "stream",
          "name": "stderr",
          "text": [
            "/usr/local/lib/python3.9/dist-packages/ipykernel/ipkernel.py:283: DeprecationWarning: `should_run_async` will not call `transform_cell` automatically in the future. Please pass the result to `transformed_cell` argument and any exception that happen during thetransform in `preprocessing_exc_tuple` in IPython 7.17 and above.\n",
            "  and should_run_async(code)\n"
          ]
        },
        {
          "output_type": "execute_result",
          "data": {
            "text/plain": [
              "          count         mean         std     min     25%     50%     75%  \\\n",
              "Season  76636.0  2010.222663    4.278176  2003.0  2007.0  2010.0  2014.0   \n",
              "Daynum  76636.0    71.397959   35.232088     0.0    40.0    75.0   102.0   \n",
              "Wteam   76636.0  1287.010100  104.883692  1101.0  1197.0  1285.0  1379.0   \n",
              "Wscore  76135.0    74.989098   11.106114    34.0    67.0    74.0    82.0   \n",
              "Lteam   76636.0  1281.911073  103.985055  1101.0  1191.0  1280.0  1373.0   \n",
              "Lscore  76636.0    63.024558   10.931154    20.0    56.0    63.0    70.0   \n",
              "Numot   76636.0     0.072538    0.314786     0.0     0.0     0.0     0.0   \n",
              "Wfgm    76636.0    25.928480    4.688792    10.0    23.0    26.0    29.0   \n",
              "Wfga    76636.0    54.868156    7.590517    27.0    50.0    54.0    60.0   \n",
              "Wfgm3   76135.0     6.939174    3.012507     0.0     5.0     7.0     9.0   \n",
              "Wfga3   76636.0    18.116251    5.686390     1.0    14.0    18.0    22.0   \n",
              "Wftm    76135.0    16.203389    6.269603     0.0    12.0    16.0    20.0   \n",
              "Wfta    76636.0    22.873284    8.149448     0.0    17.0    22.0    28.0   \n",
              "Wor     76636.0    11.041156    4.146694     0.0     8.0    11.0    14.0   \n",
              "Wdr     76636.0    25.480740    4.888536     5.0    22.0    25.0    29.0   \n",
              "Wast    76636.0    14.698967    4.407271     1.0    12.0    14.0    17.0   \n",
              "Wto     76636.0    13.070254    4.044800     1.0    10.0    13.0    16.0   \n",
              "Wstl    76636.0     7.073047    3.154542     0.0     5.0     7.0     9.0   \n",
              "Wblk    76636.0     3.841210    2.476833     0.0     2.0     3.0     5.0   \n",
              "Wpf     76636.0    17.506276    4.135943     3.0    15.0    17.0    20.0   \n",
              "Lfga3   69327.0    19.149033    5.837274     1.0    15.0    19.0    23.0   \n",
              "Lftm    69327.0    12.200990    5.374487     0.0     8.0    12.0    16.0   \n",
              "Lfta    76636.0    18.133867    7.165806     0.0    13.0    18.0    23.0   \n",
              "Lor     76636.0    11.259865    4.219683     0.0     8.0    11.0    14.0   \n",
              "Ldr     69327.0    21.430828    4.508148     4.0    18.0    21.0    24.0   \n",
              "Last    76636.0    11.413161    3.725488     0.0     9.0    11.0    14.0   \n",
              "Lto     76636.0    14.419842    4.440351     0.0    11.0    14.0    17.0   \n",
              "Lstl    76636.0     6.050381    2.778179     0.0     4.0     6.0     8.0   \n",
              "Lblk    76636.0     2.868587    2.044617     0.0     1.0     3.0     4.0   \n",
              "Lpf     76636.0    19.874054    4.530327     5.0    17.0    20.0    23.0   \n",
              "\n",
              "           max  \n",
              "Season  2017.0  \n",
              "Daynum   132.0  \n",
              "Wteam   1464.0  \n",
              "Wscore   144.0  \n",
              "Lteam   1464.0  \n",
              "Lscore   140.0  \n",
              "Numot      6.0  \n",
              "Wfgm      56.0  \n",
              "Wfga     103.0  \n",
              "Wfgm3     25.0  \n",
              "Wfga3     56.0  \n",
              "Wftm      48.0  \n",
              "Wfta      67.0  \n",
              "Wor       38.0  \n",
              "Wdr       51.0  \n",
              "Wast      40.0  \n",
              "Wto       33.0  \n",
              "Wstl      26.0  \n",
              "Wblk      21.0  \n",
              "Wpf       41.0  \n",
              "Lfga3     58.0  \n",
              "Lftm      42.0  \n",
              "Lfta      61.0  \n",
              "Lor       36.0  \n",
              "Ldr       49.0  \n",
              "Last      31.0  \n",
              "Lto       41.0  \n",
              "Lstl      22.0  \n",
              "Lblk      18.0  \n",
              "Lpf       45.0  "
            ],
            "text/html": [
              "\n",
              "  <div id=\"df-c462efc4-b21d-4f05-9733-c043116100ec\">\n",
              "    <div class=\"colab-df-container\">\n",
              "      <div>\n",
              "<style scoped>\n",
              "    .dataframe tbody tr th:only-of-type {\n",
              "        vertical-align: middle;\n",
              "    }\n",
              "\n",
              "    .dataframe tbody tr th {\n",
              "        vertical-align: top;\n",
              "    }\n",
              "\n",
              "    .dataframe thead th {\n",
              "        text-align: right;\n",
              "    }\n",
              "</style>\n",
              "<table border=\"1\" class=\"dataframe\">\n",
              "  <thead>\n",
              "    <tr style=\"text-align: right;\">\n",
              "      <th></th>\n",
              "      <th>count</th>\n",
              "      <th>mean</th>\n",
              "      <th>std</th>\n",
              "      <th>min</th>\n",
              "      <th>25%</th>\n",
              "      <th>50%</th>\n",
              "      <th>75%</th>\n",
              "      <th>max</th>\n",
              "    </tr>\n",
              "  </thead>\n",
              "  <tbody>\n",
              "    <tr>\n",
              "      <th>Season</th>\n",
              "      <td>76636.0</td>\n",
              "      <td>2010.222663</td>\n",
              "      <td>4.278176</td>\n",
              "      <td>2003.0</td>\n",
              "      <td>2007.0</td>\n",
              "      <td>2010.0</td>\n",
              "      <td>2014.0</td>\n",
              "      <td>2017.0</td>\n",
              "    </tr>\n",
              "    <tr>\n",
              "      <th>Daynum</th>\n",
              "      <td>76636.0</td>\n",
              "      <td>71.397959</td>\n",
              "      <td>35.232088</td>\n",
              "      <td>0.0</td>\n",
              "      <td>40.0</td>\n",
              "      <td>75.0</td>\n",
              "      <td>102.0</td>\n",
              "      <td>132.0</td>\n",
              "    </tr>\n",
              "    <tr>\n",
              "      <th>Wteam</th>\n",
              "      <td>76636.0</td>\n",
              "      <td>1287.010100</td>\n",
              "      <td>104.883692</td>\n",
              "      <td>1101.0</td>\n",
              "      <td>1197.0</td>\n",
              "      <td>1285.0</td>\n",
              "      <td>1379.0</td>\n",
              "      <td>1464.0</td>\n",
              "    </tr>\n",
              "    <tr>\n",
              "      <th>Wscore</th>\n",
              "      <td>76135.0</td>\n",
              "      <td>74.989098</td>\n",
              "      <td>11.106114</td>\n",
              "      <td>34.0</td>\n",
              "      <td>67.0</td>\n",
              "      <td>74.0</td>\n",
              "      <td>82.0</td>\n",
              "      <td>144.0</td>\n",
              "    </tr>\n",
              "    <tr>\n",
              "      <th>Lteam</th>\n",
              "      <td>76636.0</td>\n",
              "      <td>1281.911073</td>\n",
              "      <td>103.985055</td>\n",
              "      <td>1101.0</td>\n",
              "      <td>1191.0</td>\n",
              "      <td>1280.0</td>\n",
              "      <td>1373.0</td>\n",
              "      <td>1464.0</td>\n",
              "    </tr>\n",
              "    <tr>\n",
              "      <th>Lscore</th>\n",
              "      <td>76636.0</td>\n",
              "      <td>63.024558</td>\n",
              "      <td>10.931154</td>\n",
              "      <td>20.0</td>\n",
              "      <td>56.0</td>\n",
              "      <td>63.0</td>\n",
              "      <td>70.0</td>\n",
              "      <td>140.0</td>\n",
              "    </tr>\n",
              "    <tr>\n",
              "      <th>Numot</th>\n",
              "      <td>76636.0</td>\n",
              "      <td>0.072538</td>\n",
              "      <td>0.314786</td>\n",
              "      <td>0.0</td>\n",
              "      <td>0.0</td>\n",
              "      <td>0.0</td>\n",
              "      <td>0.0</td>\n",
              "      <td>6.0</td>\n",
              "    </tr>\n",
              "    <tr>\n",
              "      <th>Wfgm</th>\n",
              "      <td>76636.0</td>\n",
              "      <td>25.928480</td>\n",
              "      <td>4.688792</td>\n",
              "      <td>10.0</td>\n",
              "      <td>23.0</td>\n",
              "      <td>26.0</td>\n",
              "      <td>29.0</td>\n",
              "      <td>56.0</td>\n",
              "    </tr>\n",
              "    <tr>\n",
              "      <th>Wfga</th>\n",
              "      <td>76636.0</td>\n",
              "      <td>54.868156</td>\n",
              "      <td>7.590517</td>\n",
              "      <td>27.0</td>\n",
              "      <td>50.0</td>\n",
              "      <td>54.0</td>\n",
              "      <td>60.0</td>\n",
              "      <td>103.0</td>\n",
              "    </tr>\n",
              "    <tr>\n",
              "      <th>Wfgm3</th>\n",
              "      <td>76135.0</td>\n",
              "      <td>6.939174</td>\n",
              "      <td>3.012507</td>\n",
              "      <td>0.0</td>\n",
              "      <td>5.0</td>\n",
              "      <td>7.0</td>\n",
              "      <td>9.0</td>\n",
              "      <td>25.0</td>\n",
              "    </tr>\n",
              "    <tr>\n",
              "      <th>Wfga3</th>\n",
              "      <td>76636.0</td>\n",
              "      <td>18.116251</td>\n",
              "      <td>5.686390</td>\n",
              "      <td>1.0</td>\n",
              "      <td>14.0</td>\n",
              "      <td>18.0</td>\n",
              "      <td>22.0</td>\n",
              "      <td>56.0</td>\n",
              "    </tr>\n",
              "    <tr>\n",
              "      <th>Wftm</th>\n",
              "      <td>76135.0</td>\n",
              "      <td>16.203389</td>\n",
              "      <td>6.269603</td>\n",
              "      <td>0.0</td>\n",
              "      <td>12.0</td>\n",
              "      <td>16.0</td>\n",
              "      <td>20.0</td>\n",
              "      <td>48.0</td>\n",
              "    </tr>\n",
              "    <tr>\n",
              "      <th>Wfta</th>\n",
              "      <td>76636.0</td>\n",
              "      <td>22.873284</td>\n",
              "      <td>8.149448</td>\n",
              "      <td>0.0</td>\n",
              "      <td>17.0</td>\n",
              "      <td>22.0</td>\n",
              "      <td>28.0</td>\n",
              "      <td>67.0</td>\n",
              "    </tr>\n",
              "    <tr>\n",
              "      <th>Wor</th>\n",
              "      <td>76636.0</td>\n",
              "      <td>11.041156</td>\n",
              "      <td>4.146694</td>\n",
              "      <td>0.0</td>\n",
              "      <td>8.0</td>\n",
              "      <td>11.0</td>\n",
              "      <td>14.0</td>\n",
              "      <td>38.0</td>\n",
              "    </tr>\n",
              "    <tr>\n",
              "      <th>Wdr</th>\n",
              "      <td>76636.0</td>\n",
              "      <td>25.480740</td>\n",
              "      <td>4.888536</td>\n",
              "      <td>5.0</td>\n",
              "      <td>22.0</td>\n",
              "      <td>25.0</td>\n",
              "      <td>29.0</td>\n",
              "      <td>51.0</td>\n",
              "    </tr>\n",
              "    <tr>\n",
              "      <th>Wast</th>\n",
              "      <td>76636.0</td>\n",
              "      <td>14.698967</td>\n",
              "      <td>4.407271</td>\n",
              "      <td>1.0</td>\n",
              "      <td>12.0</td>\n",
              "      <td>14.0</td>\n",
              "      <td>17.0</td>\n",
              "      <td>40.0</td>\n",
              "    </tr>\n",
              "    <tr>\n",
              "      <th>Wto</th>\n",
              "      <td>76636.0</td>\n",
              "      <td>13.070254</td>\n",
              "      <td>4.044800</td>\n",
              "      <td>1.0</td>\n",
              "      <td>10.0</td>\n",
              "      <td>13.0</td>\n",
              "      <td>16.0</td>\n",
              "      <td>33.0</td>\n",
              "    </tr>\n",
              "    <tr>\n",
              "      <th>Wstl</th>\n",
              "      <td>76636.0</td>\n",
              "      <td>7.073047</td>\n",
              "      <td>3.154542</td>\n",
              "      <td>0.0</td>\n",
              "      <td>5.0</td>\n",
              "      <td>7.0</td>\n",
              "      <td>9.0</td>\n",
              "      <td>26.0</td>\n",
              "    </tr>\n",
              "    <tr>\n",
              "      <th>Wblk</th>\n",
              "      <td>76636.0</td>\n",
              "      <td>3.841210</td>\n",
              "      <td>2.476833</td>\n",
              "      <td>0.0</td>\n",
              "      <td>2.0</td>\n",
              "      <td>3.0</td>\n",
              "      <td>5.0</td>\n",
              "      <td>21.0</td>\n",
              "    </tr>\n",
              "    <tr>\n",
              "      <th>Wpf</th>\n",
              "      <td>76636.0</td>\n",
              "      <td>17.506276</td>\n",
              "      <td>4.135943</td>\n",
              "      <td>3.0</td>\n",
              "      <td>15.0</td>\n",
              "      <td>17.0</td>\n",
              "      <td>20.0</td>\n",
              "      <td>41.0</td>\n",
              "    </tr>\n",
              "    <tr>\n",
              "      <th>Lfga3</th>\n",
              "      <td>69327.0</td>\n",
              "      <td>19.149033</td>\n",
              "      <td>5.837274</td>\n",
              "      <td>1.0</td>\n",
              "      <td>15.0</td>\n",
              "      <td>19.0</td>\n",
              "      <td>23.0</td>\n",
              "      <td>58.0</td>\n",
              "    </tr>\n",
              "    <tr>\n",
              "      <th>Lftm</th>\n",
              "      <td>69327.0</td>\n",
              "      <td>12.200990</td>\n",
              "      <td>5.374487</td>\n",
              "      <td>0.0</td>\n",
              "      <td>8.0</td>\n",
              "      <td>12.0</td>\n",
              "      <td>16.0</td>\n",
              "      <td>42.0</td>\n",
              "    </tr>\n",
              "    <tr>\n",
              "      <th>Lfta</th>\n",
              "      <td>76636.0</td>\n",
              "      <td>18.133867</td>\n",
              "      <td>7.165806</td>\n",
              "      <td>0.0</td>\n",
              "      <td>13.0</td>\n",
              "      <td>18.0</td>\n",
              "      <td>23.0</td>\n",
              "      <td>61.0</td>\n",
              "    </tr>\n",
              "    <tr>\n",
              "      <th>Lor</th>\n",
              "      <td>76636.0</td>\n",
              "      <td>11.259865</td>\n",
              "      <td>4.219683</td>\n",
              "      <td>0.0</td>\n",
              "      <td>8.0</td>\n",
              "      <td>11.0</td>\n",
              "      <td>14.0</td>\n",
              "      <td>36.0</td>\n",
              "    </tr>\n",
              "    <tr>\n",
              "      <th>Ldr</th>\n",
              "      <td>69327.0</td>\n",
              "      <td>21.430828</td>\n",
              "      <td>4.508148</td>\n",
              "      <td>4.0</td>\n",
              "      <td>18.0</td>\n",
              "      <td>21.0</td>\n",
              "      <td>24.0</td>\n",
              "      <td>49.0</td>\n",
              "    </tr>\n",
              "    <tr>\n",
              "      <th>Last</th>\n",
              "      <td>76636.0</td>\n",
              "      <td>11.413161</td>\n",
              "      <td>3.725488</td>\n",
              "      <td>0.0</td>\n",
              "      <td>9.0</td>\n",
              "      <td>11.0</td>\n",
              "      <td>14.0</td>\n",
              "      <td>31.0</td>\n",
              "    </tr>\n",
              "    <tr>\n",
              "      <th>Lto</th>\n",
              "      <td>76636.0</td>\n",
              "      <td>14.419842</td>\n",
              "      <td>4.440351</td>\n",
              "      <td>0.0</td>\n",
              "      <td>11.0</td>\n",
              "      <td>14.0</td>\n",
              "      <td>17.0</td>\n",
              "      <td>41.0</td>\n",
              "    </tr>\n",
              "    <tr>\n",
              "      <th>Lstl</th>\n",
              "      <td>76636.0</td>\n",
              "      <td>6.050381</td>\n",
              "      <td>2.778179</td>\n",
              "      <td>0.0</td>\n",
              "      <td>4.0</td>\n",
              "      <td>6.0</td>\n",
              "      <td>8.0</td>\n",
              "      <td>22.0</td>\n",
              "    </tr>\n",
              "    <tr>\n",
              "      <th>Lblk</th>\n",
              "      <td>76636.0</td>\n",
              "      <td>2.868587</td>\n",
              "      <td>2.044617</td>\n",
              "      <td>0.0</td>\n",
              "      <td>1.0</td>\n",
              "      <td>3.0</td>\n",
              "      <td>4.0</td>\n",
              "      <td>18.0</td>\n",
              "    </tr>\n",
              "    <tr>\n",
              "      <th>Lpf</th>\n",
              "      <td>76636.0</td>\n",
              "      <td>19.874054</td>\n",
              "      <td>4.530327</td>\n",
              "      <td>5.0</td>\n",
              "      <td>17.0</td>\n",
              "      <td>20.0</td>\n",
              "      <td>23.0</td>\n",
              "      <td>45.0</td>\n",
              "    </tr>\n",
              "  </tbody>\n",
              "</table>\n",
              "</div>\n",
              "      <button class=\"colab-df-convert\" onclick=\"convertToInteractive('df-c462efc4-b21d-4f05-9733-c043116100ec')\"\n",
              "              title=\"Convert this dataframe to an interactive table.\"\n",
              "              style=\"display:none;\">\n",
              "        \n",
              "  <svg xmlns=\"http://www.w3.org/2000/svg\" height=\"24px\"viewBox=\"0 0 24 24\"\n",
              "       width=\"24px\">\n",
              "    <path d=\"M0 0h24v24H0V0z\" fill=\"none\"/>\n",
              "    <path d=\"M18.56 5.44l.94 2.06.94-2.06 2.06-.94-2.06-.94-.94-2.06-.94 2.06-2.06.94zm-11 1L8.5 8.5l.94-2.06 2.06-.94-2.06-.94L8.5 2.5l-.94 2.06-2.06.94zm10 10l.94 2.06.94-2.06 2.06-.94-2.06-.94-.94-2.06-.94 2.06-2.06.94z\"/><path d=\"M17.41 7.96l-1.37-1.37c-.4-.4-.92-.59-1.43-.59-.52 0-1.04.2-1.43.59L10.3 9.45l-7.72 7.72c-.78.78-.78 2.05 0 2.83L4 21.41c.39.39.9.59 1.41.59.51 0 1.02-.2 1.41-.59l7.78-7.78 2.81-2.81c.8-.78.8-2.07 0-2.86zM5.41 20L4 18.59l7.72-7.72 1.47 1.35L5.41 20z\"/>\n",
              "  </svg>\n",
              "      </button>\n",
              "      \n",
              "  <style>\n",
              "    .colab-df-container {\n",
              "      display:flex;\n",
              "      flex-wrap:wrap;\n",
              "      gap: 12px;\n",
              "    }\n",
              "\n",
              "    .colab-df-convert {\n",
              "      background-color: #E8F0FE;\n",
              "      border: none;\n",
              "      border-radius: 50%;\n",
              "      cursor: pointer;\n",
              "      display: none;\n",
              "      fill: #1967D2;\n",
              "      height: 32px;\n",
              "      padding: 0 0 0 0;\n",
              "      width: 32px;\n",
              "    }\n",
              "\n",
              "    .colab-df-convert:hover {\n",
              "      background-color: #E2EBFA;\n",
              "      box-shadow: 0px 1px 2px rgba(60, 64, 67, 0.3), 0px 1px 3px 1px rgba(60, 64, 67, 0.15);\n",
              "      fill: #174EA6;\n",
              "    }\n",
              "\n",
              "    [theme=dark] .colab-df-convert {\n",
              "      background-color: #3B4455;\n",
              "      fill: #D2E3FC;\n",
              "    }\n",
              "\n",
              "    [theme=dark] .colab-df-convert:hover {\n",
              "      background-color: #434B5C;\n",
              "      box-shadow: 0px 1px 3px 1px rgba(0, 0, 0, 0.15);\n",
              "      filter: drop-shadow(0px 1px 2px rgba(0, 0, 0, 0.3));\n",
              "      fill: #FFFFFF;\n",
              "    }\n",
              "  </style>\n",
              "\n",
              "      <script>\n",
              "        const buttonEl =\n",
              "          document.querySelector('#df-c462efc4-b21d-4f05-9733-c043116100ec button.colab-df-convert');\n",
              "        buttonEl.style.display =\n",
              "          google.colab.kernel.accessAllowed ? 'block' : 'none';\n",
              "\n",
              "        async function convertToInteractive(key) {\n",
              "          const element = document.querySelector('#df-c462efc4-b21d-4f05-9733-c043116100ec');\n",
              "          const dataTable =\n",
              "            await google.colab.kernel.invokeFunction('convertToInteractive',\n",
              "                                                     [key], {});\n",
              "          if (!dataTable) return;\n",
              "\n",
              "          const docLinkHtml = 'Like what you see? Visit the ' +\n",
              "            '<a target=\"_blank\" href=https://colab.research.google.com/notebooks/data_table.ipynb>data table notebook</a>'\n",
              "            + ' to learn more about interactive tables.';\n",
              "          element.innerHTML = '';\n",
              "          dataTable['output_type'] = 'display_data';\n",
              "          await google.colab.output.renderOutput(dataTable, element);\n",
              "          const docLink = document.createElement('div');\n",
              "          docLink.innerHTML = docLinkHtml;\n",
              "          element.appendChild(docLink);\n",
              "        }\n",
              "      </script>\n",
              "    </div>\n",
              "  </div>\n",
              "  "
            ]
          },
          "metadata": {},
          "execution_count": 16
        }
      ]
    },
    {
      "cell_type": "markdown",
      "source": [
        "### Correlaciones"
      ],
      "metadata": {
        "id": "dQT7j6ZanC-r"
      }
    },
    {
      "cell_type": "code",
      "source": [
        "correlation_matrix = df.corr()\n",
        "d, ax = plt.subplots(figsize=(12,9))\n",
        "sns.heatmap(correlation_matrix,vmax=8,square=True);"
      ],
      "metadata": {
        "colab": {
          "base_uri": "https://localhost:8080/",
          "height": 892
        },
        "id": "duUii8AinCOb",
        "outputId": "4c373bce-2d88-4684-dda1-05a013f7c556"
      },
      "execution_count": 17,
      "outputs": [
        {
          "output_type": "stream",
          "name": "stderr",
          "text": [
            "/usr/local/lib/python3.9/dist-packages/ipykernel/ipkernel.py:283: DeprecationWarning: `should_run_async` will not call `transform_cell` automatically in the future. Please pass the result to `transformed_cell` argument and any exception that happen during thetransform in `preprocessing_exc_tuple` in IPython 7.17 and above.\n",
            "  and should_run_async(code)\n",
            "<ipython-input-17-65b63cd5f2ef>:1: FutureWarning: The default value of numeric_only in DataFrame.corr is deprecated. In a future version, it will default to False. Select only valid columns or specify the value of numeric_only to silence this warning.\n",
            "  correlation_matrix = df.corr()\n"
          ]
        },
        {
          "output_type": "display_data",
          "data": {
            "text/plain": [
              "<Figure size 1200x900 with 2 Axes>"
            ],
            "image/png": "[encoded data removed]"
          },
          "metadata": {}
        }
      ]
    },
    {
      "cell_type": "markdown",
      "source": [
        "### Inspeccionando varibles categóricas"
      ],
      "metadata": {
        "id": "qVb8PGoYni9l"
      }
    },
    {
      "cell_type": "code",
      "source": [
        "categorical_columns = [i for i in df.columns if not i in df._get_numeric_data()]\n",
        "print(categorical_columns)"
      ],
      "metadata": {
        "colab": {
          "base_uri": "https://localhost:8080/"
        },
        "id": "RCOUCzb3m78T",
        "outputId": "8559a1af-2774-4153-d60d-ecce7fa1e035"
      },
      "execution_count": 20,
      "outputs": [
        {
          "output_type": "stream",
          "name": "stdout",
          "text": [
            "['Wloc', 'Lfgm', 'Lfga', 'Lfgm3']\n"
          ]
        },
        {
          "output_type": "stream",
          "name": "stderr",
          "text": [
            "/usr/local/lib/python3.9/dist-packages/ipykernel/ipkernel.py:283: DeprecationWarning: `should_run_async` will not call `transform_cell` automatically in the future. Please pass the result to `transformed_cell` argument and any exception that happen during thetransform in `preprocessing_exc_tuple` in IPython 7.17 and above.\n",
            "  and should_run_async(code)\n"
          ]
        }
      ]
    },
    {
      "cell_type": "code",
      "source": [
        "for c in categorical_columns:\n",
        "  print(\"%10s\"%c, np.unique(df[c].dropna()))"
      ],
      "metadata": {
        "colab": {
          "base_uri": "https://localhost:8080/"
        },
        "id": "IJSeJcFgn1DH",
        "outputId": "3c333831-70b0-437c-bf9c-fdcc2a79209e"
      },
      "execution_count": 26,
      "outputs": [
        {
          "output_type": "stream",
          "name": "stderr",
          "text": [
            "/usr/local/lib/python3.9/dist-packages/ipykernel/ipkernel.py:283: DeprecationWarning: `should_run_async` will not call `transform_cell` automatically in the future. Please pass the result to `transformed_cell` argument and any exception that happen during thetransform in `preprocessing_exc_tuple` in IPython 7.17 and above.\n",
            "  and should_run_async(code)\n"
          ]
        },
        {
          "output_type": "stream",
          "name": "stdout",
          "text": [
            "      Wloc ['A' 'H' 'N']\n",
            "      Lfgm ['High' 'Low' 'Medium']\n",
            "      Lfga ['High']\n",
            "     Lfgm3 ['Low' 'Medium']\n"
          ]
        }
      ]
    },
    {
      "cell_type": "code",
      "source": [
        "for column in categorical_columns:\n",
        "  print(df[column].value_counts())"
      ],
      "metadata": {
        "colab": {
          "base_uri": "https://localhost:8080/"
        },
        "id": "BaDBv_HmoC6I",
        "outputId": "6b3c6ee4-34d9-4ba6-a57a-a16068027cb4"
      },
      "execution_count": 27,
      "outputs": [
        {
          "output_type": "stream",
          "name": "stdout",
          "text": [
            "H    45512\n",
            "A    23431\n",
            "N     7693\n",
            "Name: Wloc, dtype: int64\n",
            "High      37048\n",
            "Medium    35787\n",
            "Low        3801\n",
            "Name: Lfgm, dtype: int64\n",
            "High    76636\n",
            "Name: Lfga, dtype: int64\n",
            "Low       76497\n",
            "Medium      139\n",
            "Name: Lfgm3, dtype: int64\n"
          ]
        },
        {
          "output_type": "stream",
          "name": "stderr",
          "text": [
            "/usr/local/lib/python3.9/dist-packages/ipykernel/ipkernel.py:283: DeprecationWarning: `should_run_async` will not call `transform_cell` automatically in the future. Please pass the result to `transformed_cell` argument and any exception that happen during thetransform in `preprocessing_exc_tuple` in IPython 7.17 and above.\n",
            "  and should_run_async(code)\n"
          ]
        }
      ]
    },
    {
      "cell_type": "code",
      "source": [],
      "metadata": {
        "id": "UjTMCgQ1oiTo"
      },
      "execution_count": null,
      "outputs": []
    },
    {
      "cell_type": "code",
      "source": [],
      "metadata": {
        "id": "TeQWNBPaqd8S"
      },
      "execution_count": null,
      "outputs": []
    }
  ]
}